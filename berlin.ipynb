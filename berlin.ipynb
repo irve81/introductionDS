{
 "cells": [
  {
   "cell_type": "code",
   "execution_count": 306,
   "metadata": {},
   "outputs": [
    {
     "data": {
      "text/html": [
       "<div>\n",
       "<style scoped>\n",
       "    .dataframe tbody tr th:only-of-type {\n",
       "        vertical-align: middle;\n",
       "    }\n",
       "\n",
       "    .dataframe tbody tr th {\n",
       "        vertical-align: top;\n",
       "    }\n",
       "\n",
       "    .dataframe thead th {\n",
       "        text-align: right;\n",
       "    }\n",
       "</style>\n",
       "<table border=\"1\" class=\"dataframe\">\n",
       "  <thead>\n",
       "    <tr style=\"text-align: right;\">\n",
       "      <th></th>\n",
       "      <th>id</th>\n",
       "      <th>scrape_id</th>\n",
       "      <th>host_id</th>\n",
       "      <th>host_listings_count</th>\n",
       "      <th>host_total_listings_count</th>\n",
       "      <th>latitude</th>\n",
       "      <th>longitude</th>\n",
       "      <th>accommodates</th>\n",
       "      <th>bathrooms</th>\n",
       "      <th>bedrooms</th>\n",
       "      <th>...</th>\n",
       "      <th>review_scores_cleanliness</th>\n",
       "      <th>review_scores_checkin</th>\n",
       "      <th>review_scores_communication</th>\n",
       "      <th>review_scores_location</th>\n",
       "      <th>review_scores_value</th>\n",
       "      <th>calculated_host_listings_count</th>\n",
       "      <th>calculated_host_listings_count_entire_homes</th>\n",
       "      <th>calculated_host_listings_count_private_rooms</th>\n",
       "      <th>calculated_host_listings_count_shared_rooms</th>\n",
       "      <th>reviews_per_month</th>\n",
       "    </tr>\n",
       "  </thead>\n",
       "  <tbody>\n",
       "    <tr>\n",
       "      <th>count</th>\n",
       "      <td>1.336200e+04</td>\n",
       "      <td>1.336200e+04</td>\n",
       "      <td>1.336200e+04</td>\n",
       "      <td>13353.000000</td>\n",
       "      <td>13353.000000</td>\n",
       "      <td>13362.000000</td>\n",
       "      <td>13362.000000</td>\n",
       "      <td>13362.000000</td>\n",
       "      <td>8397.000000</td>\n",
       "      <td>11221.000000</td>\n",
       "      <td>...</td>\n",
       "      <td>10225.000000</td>\n",
       "      <td>10222.000000</td>\n",
       "      <td>10224.000000</td>\n",
       "      <td>10222.000000</td>\n",
       "      <td>10220.000000</td>\n",
       "      <td>13362.000000</td>\n",
       "      <td>13362.000000</td>\n",
       "      <td>13362.000000</td>\n",
       "      <td>13362.000000</td>\n",
       "      <td>10228.000000</td>\n",
       "    </tr>\n",
       "    <tr>\n",
       "      <th>mean</th>\n",
       "      <td>3.102020e+17</td>\n",
       "      <td>2.024032e+13</td>\n",
       "      <td>1.538724e+08</td>\n",
       "      <td>17.868269</td>\n",
       "      <td>20.480341</td>\n",
       "      <td>52.509676</td>\n",
       "      <td>13.402961</td>\n",
       "      <td>2.964826</td>\n",
       "      <td>1.158628</td>\n",
       "      <td>1.344711</td>\n",
       "      <td>...</td>\n",
       "      <td>4.696822</td>\n",
       "      <td>4.825554</td>\n",
       "      <td>4.829555</td>\n",
       "      <td>4.762911</td>\n",
       "      <td>4.653723</td>\n",
       "      <td>10.123485</td>\n",
       "      <td>8.469316</td>\n",
       "      <td>1.381305</td>\n",
       "      <td>0.197800</td>\n",
       "      <td>1.122671</td>\n",
       "    </tr>\n",
       "    <tr>\n",
       "      <th>std</th>\n",
       "      <td>4.287225e+17</td>\n",
       "      <td>4.007962e+00</td>\n",
       "      <td>1.747436e+08</td>\n",
       "      <td>78.522773</td>\n",
       "      <td>89.716398</td>\n",
       "      <td>0.033598</td>\n",
       "      <td>0.066296</td>\n",
       "      <td>1.879211</td>\n",
       "      <td>0.444744</td>\n",
       "      <td>0.832744</td>\n",
       "      <td>...</td>\n",
       "      <td>0.402509</td>\n",
       "      <td>0.330470</td>\n",
       "      <td>0.339120</td>\n",
       "      <td>0.328004</td>\n",
       "      <td>0.383122</td>\n",
       "      <td>36.114710</td>\n",
       "      <td>35.698988</td>\n",
       "      <td>5.926579</td>\n",
       "      <td>2.367422</td>\n",
       "      <td>1.788995</td>\n",
       "    </tr>\n",
       "    <tr>\n",
       "      <th>min</th>\n",
       "      <td>3.176000e+03</td>\n",
       "      <td>2.024032e+13</td>\n",
       "      <td>1.581000e+03</td>\n",
       "      <td>1.000000</td>\n",
       "      <td>1.000000</td>\n",
       "      <td>52.369040</td>\n",
       "      <td>13.118150</td>\n",
       "      <td>1.000000</td>\n",
       "      <td>0.000000</td>\n",
       "      <td>0.000000</td>\n",
       "      <td>...</td>\n",
       "      <td>0.000000</td>\n",
       "      <td>0.000000</td>\n",
       "      <td>0.000000</td>\n",
       "      <td>0.000000</td>\n",
       "      <td>0.000000</td>\n",
       "      <td>1.000000</td>\n",
       "      <td>0.000000</td>\n",
       "      <td>0.000000</td>\n",
       "      <td>0.000000</td>\n",
       "      <td>0.010000</td>\n",
       "    </tr>\n",
       "    <tr>\n",
       "      <th>25%</th>\n",
       "      <td>1.803007e+07</td>\n",
       "      <td>2.024032e+13</td>\n",
       "      <td>1.391377e+07</td>\n",
       "      <td>1.000000</td>\n",
       "      <td>1.000000</td>\n",
       "      <td>52.490260</td>\n",
       "      <td>13.364565</td>\n",
       "      <td>2.000000</td>\n",
       "      <td>1.000000</td>\n",
       "      <td>1.000000</td>\n",
       "      <td>...</td>\n",
       "      <td>4.580000</td>\n",
       "      <td>4.790000</td>\n",
       "      <td>4.790000</td>\n",
       "      <td>4.670000</td>\n",
       "      <td>4.520000</td>\n",
       "      <td>1.000000</td>\n",
       "      <td>0.000000</td>\n",
       "      <td>0.000000</td>\n",
       "      <td>0.000000</td>\n",
       "      <td>0.130000</td>\n",
       "    </tr>\n",
       "    <tr>\n",
       "      <th>50%</th>\n",
       "      <td>4.060840e+07</td>\n",
       "      <td>2.024032e+13</td>\n",
       "      <td>6.387887e+07</td>\n",
       "      <td>1.000000</td>\n",
       "      <td>2.000000</td>\n",
       "      <td>52.509651</td>\n",
       "      <td>13.411290</td>\n",
       "      <td>2.000000</td>\n",
       "      <td>1.000000</td>\n",
       "      <td>1.000000</td>\n",
       "      <td>...</td>\n",
       "      <td>4.820000</td>\n",
       "      <td>4.920000</td>\n",
       "      <td>4.940000</td>\n",
       "      <td>4.850000</td>\n",
       "      <td>4.730000</td>\n",
       "      <td>1.000000</td>\n",
       "      <td>1.000000</td>\n",
       "      <td>0.000000</td>\n",
       "      <td>0.000000</td>\n",
       "      <td>0.500000</td>\n",
       "    </tr>\n",
       "    <tr>\n",
       "      <th>75%</th>\n",
       "      <td>7.679724e+17</td>\n",
       "      <td>2.024032e+13</td>\n",
       "      <td>2.667629e+08</td>\n",
       "      <td>4.000000</td>\n",
       "      <td>6.000000</td>\n",
       "      <td>52.532229</td>\n",
       "      <td>13.438257</td>\n",
       "      <td>4.000000</td>\n",
       "      <td>1.000000</td>\n",
       "      <td>2.000000</td>\n",
       "      <td>...</td>\n",
       "      <td>5.000000</td>\n",
       "      <td>5.000000</td>\n",
       "      <td>5.000000</td>\n",
       "      <td>5.000000</td>\n",
       "      <td>4.890000</td>\n",
       "      <td>4.000000</td>\n",
       "      <td>2.000000</td>\n",
       "      <td>1.000000</td>\n",
       "      <td>0.000000</td>\n",
       "      <td>1.510000</td>\n",
       "    </tr>\n",
       "    <tr>\n",
       "      <th>max</th>\n",
       "      <td>1.118938e+18</td>\n",
       "      <td>2.024032e+13</td>\n",
       "      <td>5.681830e+08</td>\n",
       "      <td>1153.000000</td>\n",
       "      <td>1304.000000</td>\n",
       "      <td>52.656110</td>\n",
       "      <td>13.721390</td>\n",
       "      <td>16.000000</td>\n",
       "      <td>8.500000</td>\n",
       "      <td>15.000000</td>\n",
       "      <td>...</td>\n",
       "      <td>5.000000</td>\n",
       "      <td>5.000000</td>\n",
       "      <td>5.000000</td>\n",
       "      <td>5.000000</td>\n",
       "      <td>5.000000</td>\n",
       "      <td>255.000000</td>\n",
       "      <td>255.000000</td>\n",
       "      <td>51.000000</td>\n",
       "      <td>38.000000</td>\n",
       "      <td>53.030000</td>\n",
       "    </tr>\n",
       "  </tbody>\n",
       "</table>\n",
       "<p>8 rows × 39 columns</p>\n",
       "</div>"
      ],
      "text/plain": [
       "                 id     scrape_id       host_id  host_listings_count  \\\n",
       "count  1.336200e+04  1.336200e+04  1.336200e+04         13353.000000   \n",
       "mean   3.102020e+17  2.024032e+13  1.538724e+08            17.868269   \n",
       "std    4.287225e+17  4.007962e+00  1.747436e+08            78.522773   \n",
       "min    3.176000e+03  2.024032e+13  1.581000e+03             1.000000   \n",
       "25%    1.803007e+07  2.024032e+13  1.391377e+07             1.000000   \n",
       "50%    4.060840e+07  2.024032e+13  6.387887e+07             1.000000   \n",
       "75%    7.679724e+17  2.024032e+13  2.667629e+08             4.000000   \n",
       "max    1.118938e+18  2.024032e+13  5.681830e+08          1153.000000   \n",
       "\n",
       "       host_total_listings_count      latitude     longitude  accommodates  \\\n",
       "count               13353.000000  13362.000000  13362.000000  13362.000000   \n",
       "mean                   20.480341     52.509676     13.402961      2.964826   \n",
       "std                    89.716398      0.033598      0.066296      1.879211   \n",
       "min                     1.000000     52.369040     13.118150      1.000000   \n",
       "25%                     1.000000     52.490260     13.364565      2.000000   \n",
       "50%                     2.000000     52.509651     13.411290      2.000000   \n",
       "75%                     6.000000     52.532229     13.438257      4.000000   \n",
       "max                  1304.000000     52.656110     13.721390     16.000000   \n",
       "\n",
       "         bathrooms      bedrooms  ...  review_scores_cleanliness  \\\n",
       "count  8397.000000  11221.000000  ...               10225.000000   \n",
       "mean      1.158628      1.344711  ...                   4.696822   \n",
       "std       0.444744      0.832744  ...                   0.402509   \n",
       "min       0.000000      0.000000  ...                   0.000000   \n",
       "25%       1.000000      1.000000  ...                   4.580000   \n",
       "50%       1.000000      1.000000  ...                   4.820000   \n",
       "75%       1.000000      2.000000  ...                   5.000000   \n",
       "max       8.500000     15.000000  ...                   5.000000   \n",
       "\n",
       "       review_scores_checkin  review_scores_communication  \\\n",
       "count           10222.000000                 10224.000000   \n",
       "mean                4.825554                     4.829555   \n",
       "std                 0.330470                     0.339120   \n",
       "min                 0.000000                     0.000000   \n",
       "25%                 4.790000                     4.790000   \n",
       "50%                 4.920000                     4.940000   \n",
       "75%                 5.000000                     5.000000   \n",
       "max                 5.000000                     5.000000   \n",
       "\n",
       "       review_scores_location  review_scores_value  \\\n",
       "count            10222.000000         10220.000000   \n",
       "mean                 4.762911             4.653723   \n",
       "std                  0.328004             0.383122   \n",
       "min                  0.000000             0.000000   \n",
       "25%                  4.670000             4.520000   \n",
       "50%                  4.850000             4.730000   \n",
       "75%                  5.000000             4.890000   \n",
       "max                  5.000000             5.000000   \n",
       "\n",
       "       calculated_host_listings_count  \\\n",
       "count                    13362.000000   \n",
       "mean                        10.123485   \n",
       "std                         36.114710   \n",
       "min                          1.000000   \n",
       "25%                          1.000000   \n",
       "50%                          1.000000   \n",
       "75%                          4.000000   \n",
       "max                        255.000000   \n",
       "\n",
       "       calculated_host_listings_count_entire_homes  \\\n",
       "count                                 13362.000000   \n",
       "mean                                      8.469316   \n",
       "std                                      35.698988   \n",
       "min                                       0.000000   \n",
       "25%                                       0.000000   \n",
       "50%                                       1.000000   \n",
       "75%                                       2.000000   \n",
       "max                                     255.000000   \n",
       "\n",
       "       calculated_host_listings_count_private_rooms  \\\n",
       "count                                  13362.000000   \n",
       "mean                                       1.381305   \n",
       "std                                        5.926579   \n",
       "min                                        0.000000   \n",
       "25%                                        0.000000   \n",
       "50%                                        0.000000   \n",
       "75%                                        1.000000   \n",
       "max                                       51.000000   \n",
       "\n",
       "       calculated_host_listings_count_shared_rooms  reviews_per_month  \n",
       "count                                 13362.000000       10228.000000  \n",
       "mean                                      0.197800           1.122671  \n",
       "std                                       2.367422           1.788995  \n",
       "min                                       0.000000           0.010000  \n",
       "25%                                       0.000000           0.130000  \n",
       "50%                                       0.000000           0.500000  \n",
       "75%                                       0.000000           1.510000  \n",
       "max                                      38.000000          53.030000  \n",
       "\n",
       "[8 rows x 39 columns]"
      ]
     },
     "execution_count": 306,
     "metadata": {},
     "output_type": "execute_result"
    }
   ],
   "source": [
    "import pandas as pd\n",
    "import seaborn as sns\n",
    "\n",
    "from sklearn.metrics import r2_score\n",
    "from sklearn.model_selection import train_test_split\n",
    "from sklearn.linear_model import LinearRegression\n",
    "\n",
    "from sklearn.preprocessing import OrdinalEncoder\n",
    "from sklearn.preprocessing import OneHotEncoder\n",
    "\n",
    "# read the data and store data in DataFrame titled berlin_data\n",
    "berlin_data = pd.read_csv('listings.csv') \n",
    "# print a summary of the data in Melbourne data\n",
    "berlin_data.describe()"
   ]
  },
  {
   "cell_type": "code",
   "execution_count": 307,
   "metadata": {},
   "outputs": [
    {
     "data": {
      "text/html": [
       "<div>\n",
       "<style scoped>\n",
       "    .dataframe tbody tr th:only-of-type {\n",
       "        vertical-align: middle;\n",
       "    }\n",
       "\n",
       "    .dataframe tbody tr th {\n",
       "        vertical-align: top;\n",
       "    }\n",
       "\n",
       "    .dataframe thead th {\n",
       "        text-align: right;\n",
       "    }\n",
       "</style>\n",
       "<table border=\"1\" class=\"dataframe\">\n",
       "  <thead>\n",
       "    <tr style=\"text-align: right;\">\n",
       "      <th></th>\n",
       "      <th>accommodates</th>\n",
       "      <th>amenities</th>\n",
       "      <th>availability_30</th>\n",
       "      <th>availability_60</th>\n",
       "      <th>bedrooms</th>\n",
       "      <th>beds</th>\n",
       "      <th>calculated_host_listings_count</th>\n",
       "      <th>calculated_host_listings_count_entire_homes</th>\n",
       "      <th>calculated_host_listings_count_private_rooms</th>\n",
       "      <th>calculated_host_listings_count_shared_rooms</th>\n",
       "      <th>...</th>\n",
       "      <th>maximum_nights</th>\n",
       "      <th>minimum_nights</th>\n",
       "      <th>neighbourhood_group_cleansed</th>\n",
       "      <th>price</th>\n",
       "      <th>property_type</th>\n",
       "      <th>review_scores_location</th>\n",
       "      <th>review_scores_rating</th>\n",
       "      <th>reviews_per_month</th>\n",
       "      <th>room_type</th>\n",
       "      <th>bathrooms_text</th>\n",
       "    </tr>\n",
       "  </thead>\n",
       "  <tbody>\n",
       "    <tr>\n",
       "      <th>0</th>\n",
       "      <td>4</td>\n",
       "      <td>[\"Hangers\", \"Crib\", \"Smoke alarm\", \"Fire extin...</td>\n",
       "      <td>0</td>\n",
       "      <td>0</td>\n",
       "      <td>1.0</td>\n",
       "      <td>2.0</td>\n",
       "      <td>1</td>\n",
       "      <td>1</td>\n",
       "      <td>0</td>\n",
       "      <td>0</td>\n",
       "      <td>...</td>\n",
       "      <td>184</td>\n",
       "      <td>63</td>\n",
       "      <td>Pankow</td>\n",
       "      <td>$83.00</td>\n",
       "      <td>Entire rental unit</td>\n",
       "      <td>4.92</td>\n",
       "      <td>4.63</td>\n",
       "      <td>0.82</td>\n",
       "      <td>Entire home/apt</td>\n",
       "      <td>1 bath</td>\n",
       "    </tr>\n",
       "    <tr>\n",
       "      <th>1</th>\n",
       "      <td>7</td>\n",
       "      <td>[\"Hangers\", \"Smoke alarm\", \"Heating\", \"Luggage...</td>\n",
       "      <td>0</td>\n",
       "      <td>0</td>\n",
       "      <td>4.0</td>\n",
       "      <td>7.0</td>\n",
       "      <td>1</td>\n",
       "      <td>1</td>\n",
       "      <td>0</td>\n",
       "      <td>0</td>\n",
       "      <td>...</td>\n",
       "      <td>14</td>\n",
       "      <td>6</td>\n",
       "      <td>Pankow</td>\n",
       "      <td>$180.00</td>\n",
       "      <td>Entire rental unit</td>\n",
       "      <td>4.86</td>\n",
       "      <td>5.00</td>\n",
       "      <td>0.07</td>\n",
       "      <td>Entire home/apt</td>\n",
       "      <td>2.5 baths</td>\n",
       "    </tr>\n",
       "    <tr>\n",
       "      <th>2</th>\n",
       "      <td>1</td>\n",
       "      <td>[\"Hangers\", \"Smoke alarm\", \"Heating\", \"Kitchen...</td>\n",
       "      <td>0</td>\n",
       "      <td>0</td>\n",
       "      <td>0.0</td>\n",
       "      <td>1.0</td>\n",
       "      <td>4</td>\n",
       "      <td>4</td>\n",
       "      <td>0</td>\n",
       "      <td>0</td>\n",
       "      <td>...</td>\n",
       "      <td>1125</td>\n",
       "      <td>150</td>\n",
       "      <td>Pankow</td>\n",
       "      <td>$70.00</td>\n",
       "      <td>Entire rental unit</td>\n",
       "      <td>4.60</td>\n",
       "      <td>4.68</td>\n",
       "      <td>0.16</td>\n",
       "      <td>Entire home/apt</td>\n",
       "      <td>1 bath</td>\n",
       "    </tr>\n",
       "    <tr>\n",
       "      <th>3</th>\n",
       "      <td>4</td>\n",
       "      <td>[\"Hangers\", \"Carbon monoxide alarm\", \"Smoke al...</td>\n",
       "      <td>0</td>\n",
       "      <td>0</td>\n",
       "      <td>1.0</td>\n",
       "      <td>1.0</td>\n",
       "      <td>2</td>\n",
       "      <td>2</td>\n",
       "      <td>0</td>\n",
       "      <td>0</td>\n",
       "      <td>...</td>\n",
       "      <td>365</td>\n",
       "      <td>93</td>\n",
       "      <td>Friedrichshain-Kreuzberg</td>\n",
       "      <td>$90.00</td>\n",
       "      <td>Entire condo</td>\n",
       "      <td>4.67</td>\n",
       "      <td>4.72</td>\n",
       "      <td>0.29</td>\n",
       "      <td>Entire home/apt</td>\n",
       "      <td>1 bath</td>\n",
       "    </tr>\n",
       "    <tr>\n",
       "      <th>4</th>\n",
       "      <td>2</td>\n",
       "      <td>[\"Hangers\", \"Self check-in\", \"Iron\", \"Heating\"...</td>\n",
       "      <td>0</td>\n",
       "      <td>0</td>\n",
       "      <td>0.0</td>\n",
       "      <td>1.0</td>\n",
       "      <td>1</td>\n",
       "      <td>1</td>\n",
       "      <td>0</td>\n",
       "      <td>0</td>\n",
       "      <td>...</td>\n",
       "      <td>365</td>\n",
       "      <td>92</td>\n",
       "      <td>Neukölln</td>\n",
       "      <td>$25.00</td>\n",
       "      <td>Entire rental unit</td>\n",
       "      <td>4.87</td>\n",
       "      <td>4.77</td>\n",
       "      <td>1.74</td>\n",
       "      <td>Entire home/apt</td>\n",
       "      <td>1 bath</td>\n",
       "    </tr>\n",
       "  </tbody>\n",
       "</table>\n",
       "<p>5 rows × 27 columns</p>\n",
       "</div>"
      ],
      "text/plain": [
       "   accommodates                                          amenities  \\\n",
       "0             4  [\"Hangers\", \"Crib\", \"Smoke alarm\", \"Fire extin...   \n",
       "1             7  [\"Hangers\", \"Smoke alarm\", \"Heating\", \"Luggage...   \n",
       "2             1  [\"Hangers\", \"Smoke alarm\", \"Heating\", \"Kitchen...   \n",
       "3             4  [\"Hangers\", \"Carbon monoxide alarm\", \"Smoke al...   \n",
       "4             2  [\"Hangers\", \"Self check-in\", \"Iron\", \"Heating\"...   \n",
       "\n",
       "   availability_30  availability_60  bedrooms  beds  \\\n",
       "0                0                0       1.0   2.0   \n",
       "1                0                0       4.0   7.0   \n",
       "2                0                0       0.0   1.0   \n",
       "3                0                0       1.0   1.0   \n",
       "4                0                0       0.0   1.0   \n",
       "\n",
       "   calculated_host_listings_count  \\\n",
       "0                               1   \n",
       "1                               1   \n",
       "2                               4   \n",
       "3                               2   \n",
       "4                               1   \n",
       "\n",
       "   calculated_host_listings_count_entire_homes  \\\n",
       "0                                            1   \n",
       "1                                            1   \n",
       "2                                            4   \n",
       "3                                            2   \n",
       "4                                            1   \n",
       "\n",
       "   calculated_host_listings_count_private_rooms  \\\n",
       "0                                             0   \n",
       "1                                             0   \n",
       "2                                             0   \n",
       "3                                             0   \n",
       "4                                             0   \n",
       "\n",
       "   calculated_host_listings_count_shared_rooms  ... maximum_nights  \\\n",
       "0                                            0  ...            184   \n",
       "1                                            0  ...             14   \n",
       "2                                            0  ...           1125   \n",
       "3                                            0  ...            365   \n",
       "4                                            0  ...            365   \n",
       "\n",
       "  minimum_nights neighbourhood_group_cleansed    price       property_type  \\\n",
       "0             63                       Pankow   $83.00  Entire rental unit   \n",
       "1              6                       Pankow  $180.00  Entire rental unit   \n",
       "2            150                       Pankow   $70.00  Entire rental unit   \n",
       "3             93     Friedrichshain-Kreuzberg   $90.00        Entire condo   \n",
       "4             92                     Neukölln   $25.00  Entire rental unit   \n",
       "\n",
       "   review_scores_location review_scores_rating  reviews_per_month  \\\n",
       "0                    4.92                 4.63               0.82   \n",
       "1                    4.86                 5.00               0.07   \n",
       "2                    4.60                 4.68               0.16   \n",
       "3                    4.67                 4.72               0.29   \n",
       "4                    4.87                 4.77               1.74   \n",
       "\n",
       "         room_type bathrooms_text  \n",
       "0  Entire home/apt         1 bath  \n",
       "1  Entire home/apt      2.5 baths  \n",
       "2  Entire home/apt         1 bath  \n",
       "3  Entire home/apt         1 bath  \n",
       "4  Entire home/apt         1 bath  \n",
       "\n",
       "[5 rows x 27 columns]"
      ]
     },
     "execution_count": 307,
     "metadata": {},
     "output_type": "execute_result"
    }
   ],
   "source": [
    "# I have selected promising columns according to file \"Inside Airbnb Data Dictionary\".\n",
    "\n",
    "col_price=['accommodates', 'amenities', 'availability_30', 'availability_60', 'bedrooms', \n",
    "           'beds', 'calculated_host_listings_count', 'calculated_host_listings_count_entire_homes', \n",
    "           'calculated_host_listings_count_private_rooms', 'calculated_host_listings_count_shared_rooms', \n",
    "           'first_review', 'has_availability', 'host_identity_verified', 'host_is_superhost', \n",
    "           'host_listings_count', 'host_total_listings_count', 'instant_bookable', 'maximum_nights', \n",
    "           'minimum_nights', 'neighbourhood_group_cleansed', 'price', 'property_type', \n",
    "           'review_scores_location', 'review_scores_rating', 'reviews_per_month', 'room_type', \n",
    "           'bathrooms_text']\n",
    "\n",
    "df=berlin_data[col_price]\n",
    "df.head()\n"
   ]
  },
  {
   "cell_type": "code",
   "execution_count": 308,
   "metadata": {},
   "outputs": [
    {
     "data": {
      "text/plain": [
       "object     11\n",
       "int64       9\n",
       "float64     7\n",
       "Name: count, dtype: int64"
      ]
     },
     "execution_count": 308,
     "metadata": {},
     "output_type": "execute_result"
    }
   ],
   "source": [
    "# Let's check data types.\n",
    "df.dtypes.value_counts()"
   ]
  },
  {
   "cell_type": "markdown",
   "metadata": {},
   "source": [
    "Let's have another look at data with a heatmap?"
   ]
  },
  {
   "cell_type": "code",
   "execution_count": 309,
   "metadata": {},
   "outputs": [
    {
     "data": {
      "text/plain": [
       "host_listings_count               float64\n",
       "host_total_listings_count         float64\n",
       "latitude                          float64\n",
       "longitude                         float64\n",
       "accommodates                        int64\n",
       "bathrooms                         float64\n",
       "bedrooms                          float64\n",
       "beds                              float64\n",
       "minimum_nights                      int64\n",
       "maximum_nights                      int64\n",
       "calendar_updated                  float64\n",
       "availability_30                     int64\n",
       "availability_60                     int64\n",
       "availability_90                     int64\n",
       "availability_365                    int64\n",
       "number_of_reviews                   int64\n",
       "number_of_reviews_ltm               int64\n",
       "number_of_reviews_l30d              int64\n",
       "review_scores_rating              float64\n",
       "calculated_host_listings_count      int64\n",
       "reviews_per_month                 float64\n",
       "dtype: object"
      ]
     },
     "execution_count": 309,
     "metadata": {},
     "output_type": "execute_result"
    }
   ],
   "source": [
    "#To check if we can find something interesting through heat map first drop some repetitive columns.\n",
    "df0=berlin_data.select_dtypes(include='number')\n",
    "df0=df0.drop(['id', 'scrape_id', 'host_id', 'minimum_minimum_nights', 'maximum_minimum_nights', 'minimum_maximum_nights', 'maximum_maximum_nights', 'minimum_nights_avg_ntm', 'maximum_nights_avg_ntm', 'review_scores_accuracy', 'review_scores_cleanliness', 'review_scores_checkin', 'review_scores_communication', 'review_scores_location', 'review_scores_value', 'calculated_host_listings_count_entire_homes', 'calculated_host_listings_count_private_rooms', 'calculated_host_listings_count_shared_rooms'],axis=1)\n",
    "df0.dtypes"
   ]
  },
  {
   "cell_type": "code",
   "execution_count": 310,
   "metadata": {},
   "outputs": [
    {
     "name": "stderr",
     "output_type": "stream",
     "text": [
      "c:\\Users\\irve8\\anaconda3\\envs\\Udacity\\lib\\site-packages\\seaborn\\matrix.py:260: FutureWarning: Format strings passed to MaskedConstant are ignored, but in future may error or produce different behavior\n",
      "  annotation = (\"{:\" + self.fmt + \"}\").format(val)\n"
     ]
    },
    {
     "data": {
      "text/plain": [
       "(13362, 21)"
      ]
     },
     "execution_count": 310,
     "metadata": {},
     "output_type": "execute_result"
    },
    {
     "data": {
      "image/png": "[encoded data removed]",
      "text/plain": [
       "<Figure size 640x480 with 2 Axes>"
      ]
     },
     "metadata": {},
     "output_type": "display_data"
    }
   ],
   "source": [
    "sns.heatmap(df0.corr(), annot=True, fmt=\".2f\");\n",
    "df0.shape"
   ]
  },
  {
   "cell_type": "markdown",
   "metadata": {},
   "source": [
    "I haven't found any suprising correlation.For example we could expect that \"accommodates\" and \"bedrooms\" are going to be correlated."
   ]
  },
  {
   "cell_type": "markdown",
   "metadata": {},
   "source": [
    "Now we will clean the data."
   ]
  },
  {
   "cell_type": "code",
   "execution_count": 311,
   "metadata": {},
   "outputs": [
    {
     "data": {
      "text/plain": [
       "(8400, 27)"
      ]
     },
     "execution_count": 311,
     "metadata": {},
     "output_type": "execute_result"
    }
   ],
   "source": [
    "#We will drop all rows with missing price in our main data frame.\n",
    "df=df.dropna(subset = ['price'])\n",
    "df.shape"
   ]
  },
  {
   "cell_type": "code",
   "execution_count": 312,
   "metadata": {},
   "outputs": [
    {
     "data": {
      "text/plain": [
       "Index(['first_review', 'review_scores_location', 'review_scores_rating',\n",
       "       'reviews_per_month'],\n",
       "      dtype='object')"
      ]
     },
     "execution_count": 312,
     "metadata": {},
     "output_type": "execute_result"
    }
   ],
   "source": [
    "#Let's check in which columns we are missing over 20% of data.\n",
    "df.columns[df.isna().sum()/df.shape[0]>0.2]"
   ]
  },
  {
   "cell_type": "code",
   "execution_count": 313,
   "metadata": {},
   "outputs": [
    {
     "data": {
      "text/plain": [
       "(8400, 24)"
      ]
     },
     "execution_count": 313,
     "metadata": {},
     "output_type": "execute_result"
    }
   ],
   "source": [
    "# We will drop those less promising.\n",
    "df = df.drop(columns=['first_review', 'review_scores_location', 'reviews_per_month'])\n",
    "df.shape"
   ]
  },
  {
   "cell_type": "code",
   "execution_count": 314,
   "metadata": {},
   "outputs": [
    {
     "data": {
      "text/plain": [
       "bedrooms                0.000595\n",
       "beds                    0.000952\n",
       "has_availability        0.010952\n",
       "host_is_superhost       0.001786\n",
       "review_scores_rating    0.237976\n",
       "bathrooms_text          0.000595\n",
       "dtype: float64"
      ]
     },
     "execution_count": 314,
     "metadata": {},
     "output_type": "execute_result"
    }
   ],
   "source": [
    "#We will check the percentage of NaN values in our data frame.\n",
    "df[df.columns[df.isna().sum()/df.shape[0]>0]].isna().sum()/df.shape[0]"
   ]
  },
  {
   "cell_type": "code",
   "execution_count": 315,
   "metadata": {},
   "outputs": [
    {
     "data": {
      "text/plain": [
       "has_availability     0.010952\n",
       "host_is_superhost    0.001786\n",
       "bathrooms_text       0.000595\n",
       "dtype: float64"
      ]
     },
     "execution_count": 315,
     "metadata": {},
     "output_type": "execute_result"
    }
   ],
   "source": [
    "# we will fill missing data in numeric columns with mean.\n",
    "num_vars = df.select_dtypes(include=['float', 'int']).columns\n",
    "for col in num_vars:\n",
    "    df[col].fillna((df[col].mean()), inplace=True)\n",
    "#We will check again the percentage of NaN values in our data frame.\n",
    "df[df.columns[df.isna().sum()/df.shape[0]>0]].isna().sum()/df.shape[0]\n"
   ]
  },
  {
   "cell_type": "code",
   "execution_count": 316,
   "metadata": {},
   "outputs": [
    {
     "data": {
      "text/plain": [
       "Series([], dtype: float64)"
      ]
     },
     "execution_count": 316,
     "metadata": {},
     "output_type": "execute_result"
    }
   ],
   "source": [
    "# 'bathrooms_text' contains categorical variable therefore we will use mode to fill missing data.\n",
    "df['bathrooms_text'] = df['bathrooms_text'].fillna(df['bathrooms_text'].mode()[0]) \n",
    "\n",
    "# For 'has_availability' and 'host_is_superhost' columns I have decided to fill with 'f'\n",
    "# as it seems to be more likely to be the right one.\n",
    "df['has_availability'] = df['has_availability'].fillna('f') \n",
    "df['host_is_superhost'] = df['host_is_superhost'].fillna('f')\n",
    "\n",
    "#We will check again the procentage of NaN values in our data frame.\n",
    "df[df.columns[df.isna().sum()/df.shape[0]>0]].isna().sum()/df.shape[0]"
   ]
  },
  {
   "cell_type": "code",
   "execution_count": 317,
   "metadata": {},
   "outputs": [
    {
     "data": {
      "text/plain": [
       "['amenities-7569',\n",
       " 'has_availability-2',\n",
       " 'host_identity_verified-2',\n",
       " 'host_is_superhost-2',\n",
       " 'instant_bookable-2',\n",
       " 'neighbourhood_group_cleansed-12',\n",
       " 'price-497',\n",
       " 'property_type-61',\n",
       " 'room_type-4',\n",
       " 'bathrooms_text-24']"
      ]
     },
     "execution_count": 317,
     "metadata": {},
     "output_type": "execute_result"
    }
   ],
   "source": [
    "# Let's check cardinality in categorical columns\n",
    "fc = lambda c : df[c].name +'-'+ str(df[c].unique().size)\n",
    "ile= [fc(col) for col in df.columns if df[col].dtype == \"object\"]\n",
    "ile"
   ]
  },
  {
   "cell_type": "code",
   "execution_count": 318,
   "metadata": {},
   "outputs": [
    {
     "data": {
      "text/plain": [
       "array(['Entire rental unit', 'Entire condo', 'Entire loft', 'Entire home',\n",
       "       'Private room in rental unit', 'Entire guest suite',\n",
       "       'Private room in loft', 'Private room', 'Entire townhouse',\n",
       "       'Private room in home', 'Private room in hostel',\n",
       "       'Shared room in hostel', 'Private room in condo', 'Entire place',\n",
       "       'Entire guesthouse', 'Houseboat',\n",
       "       'Private room in casa particular', 'Shared room in rental unit',\n",
       "       'Entire bungalow', 'Entire cottage', 'Entire villa',\n",
       "       'Entire serviced apartment', 'Room in boutique hotel', 'Boat',\n",
       "       'Tiny home', 'Private room in townhouse',\n",
       "       'Private room in bed and breakfast', 'Private room in villa',\n",
       "       'Room in hostel', 'Private room in guest suite',\n",
       "       'Room in serviced apartment', 'Room in aparthotel',\n",
       "       'Private room in cave', 'Room in hotel', 'Entire vacation home',\n",
       "       'Private room in pension', 'Private room in serviced apartment',\n",
       "       'Shared room in boutique hotel', 'Private room in bungalow',\n",
       "       'Shared room in loft', 'Island', 'Camper/RV', 'Entire cabin',\n",
       "       'Private room in guesthouse', 'Bus', 'Private room in boat',\n",
       "       'Private room in houseboat', 'Private room in vacation home',\n",
       "       'Shared room in serviced apartment', 'Shared room in guesthouse',\n",
       "       'Private room in castle', 'Shared room in casa particular',\n",
       "       'Private room in shipping container',\n",
       "       'Shared room in bed and breakfast', 'Shared room in hotel', 'Dome',\n",
       "       'Casa particular', 'Tower', 'Shared room in home',\n",
       "       'Shared room in condo', 'Farm stay'], dtype=object)"
      ]
     },
     "execution_count": 318,
     "metadata": {},
     "output_type": "execute_result"
    }
   ],
   "source": [
    "# Let's see what we have inside.\n",
    "df['property_type'].unique()"
   ]
  },
  {
   "cell_type": "code",
   "execution_count": 319,
   "metadata": {},
   "outputs": [
    {
     "data": {
      "text/plain": [
       "array(['Entire home/apt', 'Private room', 'Shared room', 'Hotel room'],\n",
       "      dtype=object)"
      ]
     },
     "execution_count": 319,
     "metadata": {},
     "output_type": "execute_result"
    }
   ],
   "source": [
    "df['room_type'].unique()"
   ]
  },
  {
   "cell_type": "code",
   "execution_count": 320,
   "metadata": {},
   "outputs": [],
   "source": [
    "# We will remove 'property_type' column as 'room_type' seems to contain enough information.\n",
    "df = df.drop(columns=['property_type'])"
   ]
  },
  {
   "cell_type": "code",
   "execution_count": 321,
   "metadata": {},
   "outputs": [
    {
     "data": {
      "text/plain": [
       "array(['[\"Hangers\", \"Crib\", \"Smoke alarm\", \"Fire extinguisher\", \"Iron\", \"Self check-in\", \"Lockbox\", \"Heating\", \"Kitchen\", \"Coffee maker\", \"Hair dryer\", \"Essentials\", \"Washer\", \"Cooking basics\", \"Patio or balcony\", \"Private hot tub\", \"Shampoo\", \"First aid kit\", \"Carbon monoxide alarm\", \"Wifi\"]',\n",
       "       '[\"Hangers\", \"Smoke alarm\", \"Heating\", \"Luggage dropoff allowed\", \"Coffee maker\", \"Elevator\", \"Children\\\\u2019s books and toys\", \"High chair\", \"Iron\", \"Kitchen\", \"Dishes and silverware\", \"Paid parking off premises\", \"Bathtub\", \"Hot water\", \"Babysitter recommendations\", \"Wifi\", \"Pack \\\\u2019n play/Travel crib\", \"Microwave\", \"Refrigerator\", \"Essentials\", \"Washer\", \"TV with standard cable\", \"Bed linens\", \"Crib\", \"Dishwasher\", \"Dryer\", \"Stove\", \"Hair dryer\", \"Room-darkening shades\", \"Cooking basics\", \"Oven\", \"Children\\\\u2019s dinnerware\"]',\n",
       "       '[\"Hangers\", \"Smoke alarm\", \"Heating\", \"Kitchen\", \"Coffee maker\", \"Refrigerator\", \"Dishes and silverware\", \"Ethernet connection\", \"Washer\", \"Host greets you\", \"Hot water\", \"Private entrance\", \"TV\", \"Wifi\"]',\n",
       "       ...,\n",
       "       '[\"Smoke alarm\", \"Kitchen\", \"Washer\", \"Outdoor shower\", \"Dedicated workspace\", \"First aid kit\", \"TV\", \"Wifi\"]',\n",
       "       '[\"Kitchen\", \"Washer\", \"TV\", \"Lake access\", \"Outdoor dining area\", \"Dedicated workspace\", \"Free parking on premises\", \"Exercise equipment\", \"Wifi\"]',\n",
       "       '[\"Smoke alarm\", \"Kitchen\", \"Washer\", \"Outdoor dining area\", \"Dedicated workspace\", \"Free parking on premises\", \"First aid kit\", \"Wifi\"]'],\n",
       "      dtype=object)"
      ]
     },
     "execution_count": 321,
     "metadata": {},
     "output_type": "execute_result"
    }
   ],
   "source": [
    "# let's check the data.\n",
    "df['amenities'].unique()"
   ]
  },
  {
   "cell_type": "code",
   "execution_count": 322,
   "metadata": {},
   "outputs": [],
   "source": [
    "# As we would have to create to many columns to use it and the informations doesn't seems \n",
    "# to be very useful we will drop it.\n",
    "df = df.drop(columns=['amenities'])"
   ]
  },
  {
   "cell_type": "code",
   "execution_count": 323,
   "metadata": {},
   "outputs": [
    {
     "data": {
      "text/plain": [
       "array(['1 bath', '2.5 baths', '2 baths', '1.5 baths', '1 private bath',\n",
       "       '1 shared bath', '1.5 shared baths', '2 shared baths', '0 baths',\n",
       "       '0 shared baths', '3 baths', '4.5 baths', '3.5 baths', '5 baths',\n",
       "       '8.5 baths', '2.5 shared baths', 'Half-bath', '4 shared baths',\n",
       "       '6 shared baths', '4 baths', '3 shared baths', '8.5 shared baths',\n",
       "       '6 baths', 'Shared half-bath'], dtype=object)"
      ]
     },
     "execution_count": 323,
     "metadata": {},
     "output_type": "execute_result"
    }
   ],
   "source": [
    "# Let's check bathrooms.\n",
    "df['bathrooms_text'].unique()"
   ]
  },
  {
   "cell_type": "code",
   "execution_count": 324,
   "metadata": {},
   "outputs": [
    {
     "data": {
      "text/plain": [
       "60    3\n",
       "61    3\n",
       "62    1\n",
       "64    3\n",
       "65    3\n",
       "66    3\n",
       "68    3\n",
       "69    3\n",
       "Name: bathrooms_text_ord, dtype: int64"
      ]
     },
     "execution_count": 324,
     "metadata": {},
     "output_type": "execute_result"
    }
   ],
   "source": [
    "# This function will be used to convert 'bathrooms_text' to ordinal values.\n",
    "# 0 - no bathrooms\n",
    "# 1 - shared bathroom/s\n",
    "# 2 - privat half batroom\n",
    "# 3 - private bathroom/s\n",
    "def bath (x):\n",
    "    \"\"\"Convert 'bathrooms_text' column to ordinal values.\n",
    "\n",
    "    INPUT:\n",
    "    Text from column 'bathrooms_text'.\n",
    "\n",
    "    OUTPUT:\n",
    "    Below you can see \"ordinal value - string found\"\n",
    "    0 - no bathrooms\n",
    "    1 - shared bathroom/s\n",
    "    2 - privat half batroom\n",
    "    3 - private bathroom/s \n",
    "    \"\"\"\n",
    "    \n",
    "    if '0' in x:\n",
    "        x=0\n",
    "    elif 'shared' in x:\n",
    "        x=1\n",
    "    elif 'Half' in x:\n",
    "        x=2\n",
    "    else:\n",
    "        x=3\n",
    "    return x\n",
    "\n",
    "# Let's apply the function.\n",
    "df['bathrooms_text_ord']=df['bathrooms_text'].apply(bath)\n",
    "# We will drop original column.\n",
    "df=df.drop('bathrooms_text',axis=1)\n",
    "# How it looks now?\n",
    "df.loc[60:70,'bathrooms_text_ord']\n"
   ]
  },
  {
   "cell_type": "code",
   "execution_count": 325,
   "metadata": {},
   "outputs": [
    {
     "data": {
      "text/html": [
       "<div>\n",
       "<style scoped>\n",
       "    .dataframe tbody tr th:only-of-type {\n",
       "        vertical-align: middle;\n",
       "    }\n",
       "\n",
       "    .dataframe tbody tr th {\n",
       "        vertical-align: top;\n",
       "    }\n",
       "\n",
       "    .dataframe thead th {\n",
       "        text-align: right;\n",
       "    }\n",
       "</style>\n",
       "<table border=\"1\" class=\"dataframe\">\n",
       "  <thead>\n",
       "    <tr style=\"text-align: right;\">\n",
       "      <th></th>\n",
       "      <th>has_availability</th>\n",
       "      <th>host_identity_verified</th>\n",
       "      <th>host_is_superhost</th>\n",
       "      <th>instant_bookable</th>\n",
       "    </tr>\n",
       "  </thead>\n",
       "  <tbody>\n",
       "    <tr>\n",
       "      <th>0</th>\n",
       "      <td>t</td>\n",
       "      <td>t</td>\n",
       "      <td>f</td>\n",
       "      <td>f</td>\n",
       "    </tr>\n",
       "    <tr>\n",
       "      <th>1</th>\n",
       "      <td>t</td>\n",
       "      <td>t</td>\n",
       "      <td>f</td>\n",
       "      <td>f</td>\n",
       "    </tr>\n",
       "    <tr>\n",
       "      <th>2</th>\n",
       "      <td>t</td>\n",
       "      <td>t</td>\n",
       "      <td>t</td>\n",
       "      <td>f</td>\n",
       "    </tr>\n",
       "    <tr>\n",
       "      <th>3</th>\n",
       "      <td>t</td>\n",
       "      <td>t</td>\n",
       "      <td>f</td>\n",
       "      <td>f</td>\n",
       "    </tr>\n",
       "    <tr>\n",
       "      <th>4</th>\n",
       "      <td>t</td>\n",
       "      <td>t</td>\n",
       "      <td>t</td>\n",
       "      <td>f</td>\n",
       "    </tr>\n",
       "    <tr>\n",
       "      <th>...</th>\n",
       "      <td>...</td>\n",
       "      <td>...</td>\n",
       "      <td>...</td>\n",
       "      <td>...</td>\n",
       "    </tr>\n",
       "    <tr>\n",
       "      <th>13357</th>\n",
       "      <td>t</td>\n",
       "      <td>t</td>\n",
       "      <td>f</td>\n",
       "      <td>f</td>\n",
       "    </tr>\n",
       "    <tr>\n",
       "      <th>13358</th>\n",
       "      <td>t</td>\n",
       "      <td>t</td>\n",
       "      <td>f</td>\n",
       "      <td>f</td>\n",
       "    </tr>\n",
       "    <tr>\n",
       "      <th>13359</th>\n",
       "      <td>t</td>\n",
       "      <td>t</td>\n",
       "      <td>f</td>\n",
       "      <td>t</td>\n",
       "    </tr>\n",
       "    <tr>\n",
       "      <th>13360</th>\n",
       "      <td>t</td>\n",
       "      <td>t</td>\n",
       "      <td>f</td>\n",
       "      <td>f</td>\n",
       "    </tr>\n",
       "    <tr>\n",
       "      <th>13361</th>\n",
       "      <td>t</td>\n",
       "      <td>t</td>\n",
       "      <td>f</td>\n",
       "      <td>f</td>\n",
       "    </tr>\n",
       "  </tbody>\n",
       "</table>\n",
       "<p>8400 rows × 4 columns</p>\n",
       "</div>"
      ],
      "text/plain": [
       "      has_availability host_identity_verified host_is_superhost  \\\n",
       "0                    t                      t                 f   \n",
       "1                    t                      t                 f   \n",
       "2                    t                      t                 t   \n",
       "3                    t                      t                 f   \n",
       "4                    t                      t                 t   \n",
       "...                ...                    ...               ...   \n",
       "13357                t                      t                 f   \n",
       "13358                t                      t                 f   \n",
       "13359                t                      t                 f   \n",
       "13360                t                      t                 f   \n",
       "13361                t                      t                 f   \n",
       "\n",
       "      instant_bookable  \n",
       "0                    f  \n",
       "1                    f  \n",
       "2                    f  \n",
       "3                    f  \n",
       "4                    f  \n",
       "...                ...  \n",
       "13357                f  \n",
       "13358                f  \n",
       "13359                t  \n",
       "13360                f  \n",
       "13361                f  \n",
       "\n",
       "[8400 rows x 4 columns]"
      ]
     },
     "execution_count": 325,
     "metadata": {},
     "output_type": "execute_result"
    }
   ],
   "source": [
    "# Let's check below columns.\n",
    "df[['has_availability','host_identity_verified','host_is_superhost','instant_bookable']]"
   ]
  },
  {
   "cell_type": "code",
   "execution_count": 326,
   "metadata": {},
   "outputs": [
    {
     "data": {
      "text/html": [
       "<div>\n",
       "<style scoped>\n",
       "    .dataframe tbody tr th:only-of-type {\n",
       "        vertical-align: middle;\n",
       "    }\n",
       "\n",
       "    .dataframe tbody tr th {\n",
       "        vertical-align: top;\n",
       "    }\n",
       "\n",
       "    .dataframe thead th {\n",
       "        text-align: right;\n",
       "    }\n",
       "</style>\n",
       "<table border=\"1\" class=\"dataframe\">\n",
       "  <thead>\n",
       "    <tr style=\"text-align: right;\">\n",
       "      <th></th>\n",
       "      <th>has_availability</th>\n",
       "      <th>host_identity_verified</th>\n",
       "      <th>host_is_superhost</th>\n",
       "      <th>instant_bookable</th>\n",
       "    </tr>\n",
       "  </thead>\n",
       "  <tbody>\n",
       "    <tr>\n",
       "      <th>0</th>\n",
       "      <td>True</td>\n",
       "      <td>True</td>\n",
       "      <td>False</td>\n",
       "      <td>False</td>\n",
       "    </tr>\n",
       "    <tr>\n",
       "      <th>1</th>\n",
       "      <td>True</td>\n",
       "      <td>True</td>\n",
       "      <td>False</td>\n",
       "      <td>False</td>\n",
       "    </tr>\n",
       "    <tr>\n",
       "      <th>2</th>\n",
       "      <td>True</td>\n",
       "      <td>True</td>\n",
       "      <td>True</td>\n",
       "      <td>False</td>\n",
       "    </tr>\n",
       "    <tr>\n",
       "      <th>3</th>\n",
       "      <td>True</td>\n",
       "      <td>True</td>\n",
       "      <td>False</td>\n",
       "      <td>False</td>\n",
       "    </tr>\n",
       "    <tr>\n",
       "      <th>4</th>\n",
       "      <td>True</td>\n",
       "      <td>True</td>\n",
       "      <td>True</td>\n",
       "      <td>False</td>\n",
       "    </tr>\n",
       "  </tbody>\n",
       "</table>\n",
       "</div>"
      ],
      "text/plain": [
       "   has_availability  host_identity_verified  host_is_superhost  \\\n",
       "0              True                    True              False   \n",
       "1              True                    True              False   \n",
       "2              True                    True               True   \n",
       "3              True                    True              False   \n",
       "4              True                    True               True   \n",
       "\n",
       "   instant_bookable  \n",
       "0             False  \n",
       "1             False  \n",
       "2             False  \n",
       "3             False  \n",
       "4             False  "
      ]
     },
     "execution_count": 326,
     "metadata": {},
     "output_type": "execute_result"
    }
   ],
   "source": [
    "# We will convert categorical  t/f to bool values.\n",
    "bools=['has_availability','host_identity_verified','host_is_superhost','instant_bookable']\n",
    "for col in bools:\n",
    "    df[col]=df[col].apply(lambda x: x=='t')\n",
    "df[bools].head()"
   ]
  },
  {
   "cell_type": "code",
   "execution_count": 327,
   "metadata": {},
   "outputs": [
    {
     "data": {
      "text/plain": [
       "0     $83.00\n",
       "1    $180.00\n",
       "2     $70.00\n",
       "3     $90.00\n",
       "4     $25.00\n",
       "Name: price, dtype: object"
      ]
     },
     "execution_count": 327,
     "metadata": {},
     "output_type": "execute_result"
    }
   ],
   "source": [
    "# Let's check 'price' column\n",
    "df['price'].head()"
   ]
  },
  {
   "cell_type": "code",
   "execution_count": 328,
   "metadata": {},
   "outputs": [
    {
     "data": {
      "text/plain": [
       "0     83.0\n",
       "1    180.0\n",
       "2     70.0\n",
       "3     90.0\n",
       "4     25.0\n",
       "Name: price, dtype: float64"
      ]
     },
     "execution_count": 328,
     "metadata": {},
     "output_type": "execute_result"
    }
   ],
   "source": [
    "# We will convert text to number.\n",
    "df['price']=df['price'].apply(lambda x: x.replace('$',''))\n",
    "df['price']=df['price'].apply(lambda x: float(x.replace(',','')))\n",
    "df['price'].head()"
   ]
  },
  {
   "cell_type": "markdown",
   "metadata": {},
   "source": [
    "Now we can analize the data a bit deeper and answer our first question.\n",
    "\n",
    "1. What is the average price in each Berlin's district?"
   ]
  },
  {
   "cell_type": "code",
   "execution_count": 329,
   "metadata": {},
   "outputs": [],
   "source": [
    "# We will create bar plot functions for our purpose.\n",
    "def bars (x):\n",
    "    \"\"\" The function will create a bar plot\n",
    "\n",
    "    Input: Series\n",
    "    Output:Bar plot with values on X axis and indexes on Y axis\n",
    "    \"\"\"\n",
    "    indeksy=x.index\n",
    "    wartosci=x.values\n",
    "    sns.barplot(x=wartosci, y=indeksy)\n",
    "\n",
    "def bars2 (x):\n",
    "    \"\"\" The function will create a bar plot\n",
    "\n",
    "    Input: Series\n",
    "    Output:Bar plot with values on Y axis and indexes on X axis\n",
    "    \"\"\"\n",
    "    indeksy=x.index\n",
    "    wartosci=x.values\n",
    "    sns.barplot(x=indeksy, y=wartosci)"
   ]
  },
  {
   "cell_type": "code",
   "execution_count": 330,
   "metadata": {},
   "outputs": [
    {
     "name": "stderr",
     "output_type": "stream",
     "text": [
      "c:\\Users\\irve8\\anaconda3\\envs\\Udacity\\lib\\site-packages\\seaborn\\_oldcore.py:1498: FutureWarning: is_categorical_dtype is deprecated and will be removed in a future version. Use isinstance(dtype, CategoricalDtype) instead\n",
      "  if pd.api.types.is_categorical_dtype(vector):\n",
      "c:\\Users\\irve8\\anaconda3\\envs\\Udacity\\lib\\site-packages\\seaborn\\_oldcore.py:1498: FutureWarning: is_categorical_dtype is deprecated and will be removed in a future version. Use isinstance(dtype, CategoricalDtype) instead\n",
      "  if pd.api.types.is_categorical_dtype(vector):\n",
      "c:\\Users\\irve8\\anaconda3\\envs\\Udacity\\lib\\site-packages\\seaborn\\_oldcore.py:1498: FutureWarning: is_categorical_dtype is deprecated and will be removed in a future version. Use isinstance(dtype, CategoricalDtype) instead\n",
      "  if pd.api.types.is_categorical_dtype(vector):\n"
     ]
    },
    {
     "data": {
      "image/png": "[encoded data removed]",
      "text/plain": [
       "<Figure size 640x480 with 1 Axes>"
      ]
     },
     "metadata": {},
     "output_type": "display_data"
    }
   ],
   "source": [
    "#Let's display a bar plot of average price in each Berlin's district.\n",
    "#x=df.groupby('neighbourhood_group_cleansed').price.mean().sort_values()\n",
    "bars(df.groupby('neighbourhood_group_cleansed').price.mean().sort_values())"
   ]
  },
  {
   "cell_type": "markdown",
   "metadata": {},
   "source": [
    "As we can see the most expensive district is Mitte and the affordable are Marzan-Hellersdorf and Reinickendorf."
   ]
  },
  {
   "cell_type": "markdown",
   "metadata": {},
   "source": [
    "Still some data wrangling has to be done."
   ]
  },
  {
   "cell_type": "code",
   "execution_count": 331,
   "metadata": {},
   "outputs": [
    {
     "data": {
      "text/plain": [
       "['neighbourhood_group_cleansed-12', 'room_type-4']"
      ]
     },
     "execution_count": 331,
     "metadata": {},
     "output_type": "execute_result"
    }
   ],
   "source": [
    "# Let's check the cardinality of leftover categorical columns\n",
    "ile= [fc(col) for col in df.columns if df[col].dtype == \"object\"]\n",
    "ile"
   ]
  },
  {
   "cell_type": "code",
   "execution_count": 332,
   "metadata": {},
   "outputs": [
    {
     "data": {
      "text/plain": [
       "array(['Entire home/apt', 'Private room', 'Shared room', 'Hotel room'],\n",
       "      dtype=object)"
      ]
     },
     "execution_count": 332,
     "metadata": {},
     "output_type": "execute_result"
    }
   ],
   "source": [
    "# Let's look inside.\n",
    "df['room_type'].unique()"
   ]
  },
  {
   "cell_type": "code",
   "execution_count": 333,
   "metadata": {},
   "outputs": [
    {
     "data": {
      "text/plain": [
       "array([3., 2., 0., 1.])"
      ]
     },
     "execution_count": 333,
     "metadata": {},
     "output_type": "execute_result"
    }
   ],
   "source": [
    "# For 'room_type' we will go with ordinal encoding. \n",
    "typ=['Shared room','Hotel room','Private room','Entire home/apt']\n",
    "#-from sklearn.preprocessing import OrdinalEncoder\n",
    "ord_enc=OrdinalEncoder(categories=[typ])\n",
    "df[['room_type_ord']]=ord_enc.fit_transform(df[['room_type']])\n",
    "df=df.drop('room_type', axis=1)\n",
    "df['room_type_ord'].unique()"
   ]
  },
  {
   "cell_type": "code",
   "execution_count": 334,
   "metadata": {},
   "outputs": [
    {
     "data": {
      "text/html": [
       "<div>\n",
       "<style scoped>\n",
       "    .dataframe tbody tr th:only-of-type {\n",
       "        vertical-align: middle;\n",
       "    }\n",
       "\n",
       "    .dataframe tbody tr th {\n",
       "        vertical-align: top;\n",
       "    }\n",
       "\n",
       "    .dataframe thead th {\n",
       "        text-align: right;\n",
       "    }\n",
       "</style>\n",
       "<table border=\"1\" class=\"dataframe\">\n",
       "  <thead>\n",
       "    <tr style=\"text-align: right;\">\n",
       "      <th></th>\n",
       "      <th>accommodates</th>\n",
       "      <th>availability_30</th>\n",
       "      <th>availability_60</th>\n",
       "      <th>bedrooms</th>\n",
       "      <th>beds</th>\n",
       "      <th>calculated_host_listings_count</th>\n",
       "      <th>calculated_host_listings_count_entire_homes</th>\n",
       "      <th>calculated_host_listings_count_private_rooms</th>\n",
       "      <th>calculated_host_listings_count_shared_rooms</th>\n",
       "      <th>has_availability</th>\n",
       "      <th>...</th>\n",
       "      <th>neighbourhood_group_cleansed_Marzahn - Hellersdorf</th>\n",
       "      <th>neighbourhood_group_cleansed_Mitte</th>\n",
       "      <th>neighbourhood_group_cleansed_Neukölln</th>\n",
       "      <th>neighbourhood_group_cleansed_Pankow</th>\n",
       "      <th>neighbourhood_group_cleansed_Reinickendorf</th>\n",
       "      <th>neighbourhood_group_cleansed_Spandau</th>\n",
       "      <th>neighbourhood_group_cleansed_Steglitz - Zehlendorf</th>\n",
       "      <th>neighbourhood_group_cleansed_Tempelhof - Schöneberg</th>\n",
       "      <th>neighbourhood_group_cleansed_Treptow - Köpenick</th>\n",
       "      <th>neighbourhood_group_cleansed_nan</th>\n",
       "    </tr>\n",
       "  </thead>\n",
       "  <tbody>\n",
       "    <tr>\n",
       "      <th>0</th>\n",
       "      <td>4</td>\n",
       "      <td>0</td>\n",
       "      <td>0</td>\n",
       "      <td>1.0</td>\n",
       "      <td>2.0</td>\n",
       "      <td>1</td>\n",
       "      <td>1</td>\n",
       "      <td>0</td>\n",
       "      <td>0</td>\n",
       "      <td>True</td>\n",
       "      <td>...</td>\n",
       "      <td>False</td>\n",
       "      <td>False</td>\n",
       "      <td>False</td>\n",
       "      <td>True</td>\n",
       "      <td>False</td>\n",
       "      <td>False</td>\n",
       "      <td>False</td>\n",
       "      <td>False</td>\n",
       "      <td>False</td>\n",
       "      <td>False</td>\n",
       "    </tr>\n",
       "    <tr>\n",
       "      <th>1</th>\n",
       "      <td>7</td>\n",
       "      <td>0</td>\n",
       "      <td>0</td>\n",
       "      <td>4.0</td>\n",
       "      <td>7.0</td>\n",
       "      <td>1</td>\n",
       "      <td>1</td>\n",
       "      <td>0</td>\n",
       "      <td>0</td>\n",
       "      <td>True</td>\n",
       "      <td>...</td>\n",
       "      <td>False</td>\n",
       "      <td>False</td>\n",
       "      <td>False</td>\n",
       "      <td>True</td>\n",
       "      <td>False</td>\n",
       "      <td>False</td>\n",
       "      <td>False</td>\n",
       "      <td>False</td>\n",
       "      <td>False</td>\n",
       "      <td>False</td>\n",
       "    </tr>\n",
       "    <tr>\n",
       "      <th>2</th>\n",
       "      <td>1</td>\n",
       "      <td>0</td>\n",
       "      <td>0</td>\n",
       "      <td>0.0</td>\n",
       "      <td>1.0</td>\n",
       "      <td>4</td>\n",
       "      <td>4</td>\n",
       "      <td>0</td>\n",
       "      <td>0</td>\n",
       "      <td>True</td>\n",
       "      <td>...</td>\n",
       "      <td>False</td>\n",
       "      <td>False</td>\n",
       "      <td>False</td>\n",
       "      <td>True</td>\n",
       "      <td>False</td>\n",
       "      <td>False</td>\n",
       "      <td>False</td>\n",
       "      <td>False</td>\n",
       "      <td>False</td>\n",
       "      <td>False</td>\n",
       "    </tr>\n",
       "    <tr>\n",
       "      <th>3</th>\n",
       "      <td>4</td>\n",
       "      <td>0</td>\n",
       "      <td>0</td>\n",
       "      <td>1.0</td>\n",
       "      <td>1.0</td>\n",
       "      <td>2</td>\n",
       "      <td>2</td>\n",
       "      <td>0</td>\n",
       "      <td>0</td>\n",
       "      <td>True</td>\n",
       "      <td>...</td>\n",
       "      <td>False</td>\n",
       "      <td>False</td>\n",
       "      <td>False</td>\n",
       "      <td>False</td>\n",
       "      <td>False</td>\n",
       "      <td>False</td>\n",
       "      <td>False</td>\n",
       "      <td>False</td>\n",
       "      <td>False</td>\n",
       "      <td>False</td>\n",
       "    </tr>\n",
       "    <tr>\n",
       "      <th>4</th>\n",
       "      <td>2</td>\n",
       "      <td>0</td>\n",
       "      <td>0</td>\n",
       "      <td>0.0</td>\n",
       "      <td>1.0</td>\n",
       "      <td>1</td>\n",
       "      <td>1</td>\n",
       "      <td>0</td>\n",
       "      <td>0</td>\n",
       "      <td>True</td>\n",
       "      <td>...</td>\n",
       "      <td>False</td>\n",
       "      <td>False</td>\n",
       "      <td>True</td>\n",
       "      <td>False</td>\n",
       "      <td>False</td>\n",
       "      <td>False</td>\n",
       "      <td>False</td>\n",
       "      <td>False</td>\n",
       "      <td>False</td>\n",
       "      <td>False</td>\n",
       "    </tr>\n",
       "    <tr>\n",
       "      <th>...</th>\n",
       "      <td>...</td>\n",
       "      <td>...</td>\n",
       "      <td>...</td>\n",
       "      <td>...</td>\n",
       "      <td>...</td>\n",
       "      <td>...</td>\n",
       "      <td>...</td>\n",
       "      <td>...</td>\n",
       "      <td>...</td>\n",
       "      <td>...</td>\n",
       "      <td>...</td>\n",
       "      <td>...</td>\n",
       "      <td>...</td>\n",
       "      <td>...</td>\n",
       "      <td>...</td>\n",
       "      <td>...</td>\n",
       "      <td>...</td>\n",
       "      <td>...</td>\n",
       "      <td>...</td>\n",
       "      <td>...</td>\n",
       "      <td>...</td>\n",
       "    </tr>\n",
       "    <tr>\n",
       "      <th>13357</th>\n",
       "      <td>10</td>\n",
       "      <td>26</td>\n",
       "      <td>53</td>\n",
       "      <td>3.0</td>\n",
       "      <td>1.0</td>\n",
       "      <td>1</td>\n",
       "      <td>1</td>\n",
       "      <td>0</td>\n",
       "      <td>0</td>\n",
       "      <td>True</td>\n",
       "      <td>...</td>\n",
       "      <td>False</td>\n",
       "      <td>False</td>\n",
       "      <td>False</td>\n",
       "      <td>False</td>\n",
       "      <td>False</td>\n",
       "      <td>False</td>\n",
       "      <td>False</td>\n",
       "      <td>False</td>\n",
       "      <td>False</td>\n",
       "      <td>False</td>\n",
       "    </tr>\n",
       "    <tr>\n",
       "      <th>13358</th>\n",
       "      <td>2</td>\n",
       "      <td>0</td>\n",
       "      <td>12</td>\n",
       "      <td>1.0</td>\n",
       "      <td>0.0</td>\n",
       "      <td>1</td>\n",
       "      <td>0</td>\n",
       "      <td>1</td>\n",
       "      <td>0</td>\n",
       "      <td>True</td>\n",
       "      <td>...</td>\n",
       "      <td>False</td>\n",
       "      <td>False</td>\n",
       "      <td>False</td>\n",
       "      <td>False</td>\n",
       "      <td>False</td>\n",
       "      <td>False</td>\n",
       "      <td>False</td>\n",
       "      <td>False</td>\n",
       "      <td>True</td>\n",
       "      <td>False</td>\n",
       "    </tr>\n",
       "    <tr>\n",
       "      <th>13359</th>\n",
       "      <td>2</td>\n",
       "      <td>30</td>\n",
       "      <td>60</td>\n",
       "      <td>1.0</td>\n",
       "      <td>0.0</td>\n",
       "      <td>1</td>\n",
       "      <td>1</td>\n",
       "      <td>0</td>\n",
       "      <td>0</td>\n",
       "      <td>True</td>\n",
       "      <td>...</td>\n",
       "      <td>False</td>\n",
       "      <td>False</td>\n",
       "      <td>False</td>\n",
       "      <td>False</td>\n",
       "      <td>False</td>\n",
       "      <td>False</td>\n",
       "      <td>False</td>\n",
       "      <td>False</td>\n",
       "      <td>False</td>\n",
       "      <td>False</td>\n",
       "    </tr>\n",
       "    <tr>\n",
       "      <th>13360</th>\n",
       "      <td>6</td>\n",
       "      <td>29</td>\n",
       "      <td>59</td>\n",
       "      <td>2.0</td>\n",
       "      <td>1.0</td>\n",
       "      <td>1</td>\n",
       "      <td>1</td>\n",
       "      <td>0</td>\n",
       "      <td>0</td>\n",
       "      <td>True</td>\n",
       "      <td>...</td>\n",
       "      <td>False</td>\n",
       "      <td>False</td>\n",
       "      <td>False</td>\n",
       "      <td>False</td>\n",
       "      <td>True</td>\n",
       "      <td>False</td>\n",
       "      <td>False</td>\n",
       "      <td>False</td>\n",
       "      <td>False</td>\n",
       "      <td>False</td>\n",
       "    </tr>\n",
       "    <tr>\n",
       "      <th>13361</th>\n",
       "      <td>2</td>\n",
       "      <td>29</td>\n",
       "      <td>59</td>\n",
       "      <td>1.0</td>\n",
       "      <td>1.0</td>\n",
       "      <td>1</td>\n",
       "      <td>1</td>\n",
       "      <td>0</td>\n",
       "      <td>0</td>\n",
       "      <td>True</td>\n",
       "      <td>...</td>\n",
       "      <td>False</td>\n",
       "      <td>False</td>\n",
       "      <td>True</td>\n",
       "      <td>False</td>\n",
       "      <td>False</td>\n",
       "      <td>False</td>\n",
       "      <td>False</td>\n",
       "      <td>False</td>\n",
       "      <td>False</td>\n",
       "      <td>False</td>\n",
       "    </tr>\n",
       "  </tbody>\n",
       "</table>\n",
       "<p>8400 rows × 33 columns</p>\n",
       "</div>"
      ],
      "text/plain": [
       "       accommodates  availability_30  availability_60  bedrooms  beds  \\\n",
       "0                 4                0                0       1.0   2.0   \n",
       "1                 7                0                0       4.0   7.0   \n",
       "2                 1                0                0       0.0   1.0   \n",
       "3                 4                0                0       1.0   1.0   \n",
       "4                 2                0                0       0.0   1.0   \n",
       "...             ...              ...              ...       ...   ...   \n",
       "13357            10               26               53       3.0   1.0   \n",
       "13358             2                0               12       1.0   0.0   \n",
       "13359             2               30               60       1.0   0.0   \n",
       "13360             6               29               59       2.0   1.0   \n",
       "13361             2               29               59       1.0   1.0   \n",
       "\n",
       "       calculated_host_listings_count  \\\n",
       "0                                   1   \n",
       "1                                   1   \n",
       "2                                   4   \n",
       "3                                   2   \n",
       "4                                   1   \n",
       "...                               ...   \n",
       "13357                               1   \n",
       "13358                               1   \n",
       "13359                               1   \n",
       "13360                               1   \n",
       "13361                               1   \n",
       "\n",
       "       calculated_host_listings_count_entire_homes  \\\n",
       "0                                                1   \n",
       "1                                                1   \n",
       "2                                                4   \n",
       "3                                                2   \n",
       "4                                                1   \n",
       "...                                            ...   \n",
       "13357                                            1   \n",
       "13358                                            0   \n",
       "13359                                            1   \n",
       "13360                                            1   \n",
       "13361                                            1   \n",
       "\n",
       "       calculated_host_listings_count_private_rooms  \\\n",
       "0                                                 0   \n",
       "1                                                 0   \n",
       "2                                                 0   \n",
       "3                                                 0   \n",
       "4                                                 0   \n",
       "...                                             ...   \n",
       "13357                                             0   \n",
       "13358                                             1   \n",
       "13359                                             0   \n",
       "13360                                             0   \n",
       "13361                                             0   \n",
       "\n",
       "       calculated_host_listings_count_shared_rooms  has_availability  ...  \\\n",
       "0                                                0              True  ...   \n",
       "1                                                0              True  ...   \n",
       "2                                                0              True  ...   \n",
       "3                                                0              True  ...   \n",
       "4                                                0              True  ...   \n",
       "...                                            ...               ...  ...   \n",
       "13357                                            0              True  ...   \n",
       "13358                                            0              True  ...   \n",
       "13359                                            0              True  ...   \n",
       "13360                                            0              True  ...   \n",
       "13361                                            0              True  ...   \n",
       "\n",
       "       neighbourhood_group_cleansed_Marzahn - Hellersdorf  \\\n",
       "0                                                  False    \n",
       "1                                                  False    \n",
       "2                                                  False    \n",
       "3                                                  False    \n",
       "4                                                  False    \n",
       "...                                                  ...    \n",
       "13357                                              False    \n",
       "13358                                              False    \n",
       "13359                                              False    \n",
       "13360                                              False    \n",
       "13361                                              False    \n",
       "\n",
       "       neighbourhood_group_cleansed_Mitte  \\\n",
       "0                                   False   \n",
       "1                                   False   \n",
       "2                                   False   \n",
       "3                                   False   \n",
       "4                                   False   \n",
       "...                                   ...   \n",
       "13357                               False   \n",
       "13358                               False   \n",
       "13359                               False   \n",
       "13360                               False   \n",
       "13361                               False   \n",
       "\n",
       "       neighbourhood_group_cleansed_Neukölln  \\\n",
       "0                                      False   \n",
       "1                                      False   \n",
       "2                                      False   \n",
       "3                                      False   \n",
       "4                                       True   \n",
       "...                                      ...   \n",
       "13357                                  False   \n",
       "13358                                  False   \n",
       "13359                                  False   \n",
       "13360                                  False   \n",
       "13361                                   True   \n",
       "\n",
       "       neighbourhood_group_cleansed_Pankow  \\\n",
       "0                                     True   \n",
       "1                                     True   \n",
       "2                                     True   \n",
       "3                                    False   \n",
       "4                                    False   \n",
       "...                                    ...   \n",
       "13357                                False   \n",
       "13358                                False   \n",
       "13359                                False   \n",
       "13360                                False   \n",
       "13361                                False   \n",
       "\n",
       "       neighbourhood_group_cleansed_Reinickendorf  \\\n",
       "0                                           False   \n",
       "1                                           False   \n",
       "2                                           False   \n",
       "3                                           False   \n",
       "4                                           False   \n",
       "...                                           ...   \n",
       "13357                                       False   \n",
       "13358                                       False   \n",
       "13359                                       False   \n",
       "13360                                        True   \n",
       "13361                                       False   \n",
       "\n",
       "       neighbourhood_group_cleansed_Spandau  \\\n",
       "0                                     False   \n",
       "1                                     False   \n",
       "2                                     False   \n",
       "3                                     False   \n",
       "4                                     False   \n",
       "...                                     ...   \n",
       "13357                                 False   \n",
       "13358                                 False   \n",
       "13359                                 False   \n",
       "13360                                 False   \n",
       "13361                                 False   \n",
       "\n",
       "       neighbourhood_group_cleansed_Steglitz - Zehlendorf  \\\n",
       "0                                                  False    \n",
       "1                                                  False    \n",
       "2                                                  False    \n",
       "3                                                  False    \n",
       "4                                                  False    \n",
       "...                                                  ...    \n",
       "13357                                              False    \n",
       "13358                                              False    \n",
       "13359                                              False    \n",
       "13360                                              False    \n",
       "13361                                              False    \n",
       "\n",
       "       neighbourhood_group_cleansed_Tempelhof - Schöneberg  \\\n",
       "0                                                  False     \n",
       "1                                                  False     \n",
       "2                                                  False     \n",
       "3                                                  False     \n",
       "4                                                  False     \n",
       "...                                                  ...     \n",
       "13357                                              False     \n",
       "13358                                              False     \n",
       "13359                                              False     \n",
       "13360                                              False     \n",
       "13361                                              False     \n",
       "\n",
       "       neighbourhood_group_cleansed_Treptow - Köpenick  \\\n",
       "0                                                False   \n",
       "1                                                False   \n",
       "2                                                False   \n",
       "3                                                False   \n",
       "4                                                False   \n",
       "...                                                ...   \n",
       "13357                                            False   \n",
       "13358                                             True   \n",
       "13359                                            False   \n",
       "13360                                            False   \n",
       "13361                                            False   \n",
       "\n",
       "       neighbourhood_group_cleansed_nan  \n",
       "0                                 False  \n",
       "1                                 False  \n",
       "2                                 False  \n",
       "3                                 False  \n",
       "4                                 False  \n",
       "...                                 ...  \n",
       "13357                             False  \n",
       "13358                             False  \n",
       "13359                             False  \n",
       "13360                             False  \n",
       "13361                             False  \n",
       "\n",
       "[8400 rows x 33 columns]"
      ]
     },
     "execution_count": 334,
     "metadata": {},
     "output_type": "execute_result"
    }
   ],
   "source": [
    "# For 'neighbourhood_group_cleansed' I've decided to go with one hot shoe encoding.\n",
    "#-from sklearn.preprocessing import OneHotEncoder\n",
    "df_dumm=pd.get_dummies(df['neighbourhood_group_cleansed'], prefix='neighbourhood_group_cleansed', prefix_sep='_', drop_first=True, dummy_na=True)\n",
    "df = pd.concat([df.drop('neighbourhood_group_cleansed', axis=1), df_dumm], axis=1)\n",
    "# How does it look like now?\n",
    "df"
   ]
  },
  {
   "cell_type": "code",
   "execution_count": 335,
   "metadata": {},
   "outputs": [
    {
     "data": {
      "text/plain": [
       "Index(['accommodates', 'availability_30', 'availability_60', 'bedrooms',\n",
       "       'beds', 'calculated_host_listings_count',\n",
       "       'calculated_host_listings_count_entire_homes',\n",
       "       'calculated_host_listings_count_private_rooms',\n",
       "       'calculated_host_listings_count_shared_rooms', 'has_availability',\n",
       "       'host_identity_verified', 'host_is_superhost', 'host_listings_count',\n",
       "       'host_total_listings_count', 'instant_bookable', 'maximum_nights',\n",
       "       'minimum_nights', 'price', 'review_scores_rating', 'bathrooms_text_ord',\n",
       "       'room_type_ord',\n",
       "       'neighbourhood_group_cleansed_Friedrichshain-Kreuzberg',\n",
       "       'neighbourhood_group_cleansed_Lichtenberg',\n",
       "       'neighbourhood_group_cleansed_Marzahn - Hellersdorf',\n",
       "       'neighbourhood_group_cleansed_Mitte',\n",
       "       'neighbourhood_group_cleansed_Neukölln',\n",
       "       'neighbourhood_group_cleansed_Pankow',\n",
       "       'neighbourhood_group_cleansed_Reinickendorf',\n",
       "       'neighbourhood_group_cleansed_Spandau',\n",
       "       'neighbourhood_group_cleansed_Steglitz - Zehlendorf',\n",
       "       'neighbourhood_group_cleansed_Tempelhof - Schöneberg',\n",
       "       'neighbourhood_group_cleansed_Treptow - Köpenick',\n",
       "       'neighbourhood_group_cleansed_nan'],\n",
       "      dtype='object')"
      ]
     },
     "execution_count": 335,
     "metadata": {},
     "output_type": "execute_result"
    }
   ],
   "source": [
    "# Double check columns.\n",
    "df.columns"
   ]
  },
  {
   "cell_type": "markdown",
   "metadata": {},
   "source": [
    "Now we can take care on our second question.\n",
    "2. What have the biggest influence on the price of listing.To help you asses what type of property is right to invest in."
   ]
  },
  {
   "cell_type": "code",
   "execution_count": 336,
   "metadata": {},
   "outputs": [
    {
     "data": {
      "text/plain": [
       "price                                                    1.000000\n",
       "accommodates                                             0.455022\n",
       "bedrooms                                                 0.392721\n",
       "beds                                                     0.330030\n",
       "bathrooms_text_ord                                       0.201722\n",
       "room_type_ord                                            0.200070\n",
       "minimum_nights                                           0.154962\n",
       "neighbourhood_group_cleansed_Mitte                       0.128721\n",
       "calculated_host_listings_count_private_rooms             0.103329\n",
       "instant_bookable                                         0.099032\n",
       "availability_60                                          0.080165\n",
       "availability_30                                          0.072755\n",
       "neighbourhood_group_cleansed_Neukölln                    0.054009\n",
       "host_is_superhost                                        0.052717\n",
       "review_scores_rating                                     0.051774\n",
       "neighbourhood_group_cleansed_Reinickendorf               0.049608\n",
       "neighbourhood_group_cleansed_Marzahn - Hellersdorf       0.045366\n",
       "calculated_host_listings_count_shared_rooms              0.036739\n",
       "neighbourhood_group_cleansed_Steglitz - Zehlendorf       0.027435\n",
       "neighbourhood_group_cleansed_Treptow - Köpenick          0.024496\n",
       "neighbourhood_group_cleansed_Lichtenberg                 0.023641\n",
       "neighbourhood_group_cleansed_Spandau                     0.022846\n",
       "maximum_nights                                           0.020477\n",
       "host_total_listings_count                                0.019965\n",
       "neighbourhood_group_cleansed_Friedrichshain-Kreuzberg    0.017900\n",
       "calculated_host_listings_count                           0.016258\n",
       "has_availability                                         0.014880\n",
       "host_listings_count                                      0.010480\n",
       "host_identity_verified                                   0.008192\n",
       "neighbourhood_group_cleansed_Pankow                      0.008015\n",
       "neighbourhood_group_cleansed_Tempelhof - Schöneberg      0.004710\n",
       "calculated_host_listings_count_entire_homes              0.000118\n",
       "neighbourhood_group_cleansed_nan                              NaN\n",
       "Name: price, dtype: float64"
      ]
     },
     "execution_count": 336,
     "metadata": {},
     "output_type": "execute_result"
    }
   ],
   "source": [
    "# Let's look at correlation coeficients.\n",
    "cof=df.corr()\n",
    "cof.price.abs().sort_values(ascending=False)"
   ]
  },
  {
   "cell_type": "markdown",
   "metadata": {},
   "source": [
    "We can conculde that the biggest influence on the price has the size of property. As we also know 4 first ones are of course correlated with each other."
   ]
  },
  {
   "cell_type": "code",
   "execution_count": 337,
   "metadata": {},
   "outputs": [
    {
     "name": "stderr",
     "output_type": "stream",
     "text": [
      "c:\\Users\\irve8\\anaconda3\\envs\\Udacity\\lib\\site-packages\\seaborn\\_oldcore.py:1498: FutureWarning: is_categorical_dtype is deprecated and will be removed in a future version. Use isinstance(dtype, CategoricalDtype) instead\n",
      "  if pd.api.types.is_categorical_dtype(vector):\n",
      "c:\\Users\\irve8\\anaconda3\\envs\\Udacity\\lib\\site-packages\\seaborn\\_oldcore.py:1498: FutureWarning: is_categorical_dtype is deprecated and will be removed in a future version. Use isinstance(dtype, CategoricalDtype) instead\n",
      "  if pd.api.types.is_categorical_dtype(vector):\n",
      "c:\\Users\\irve8\\anaconda3\\envs\\Udacity\\lib\\site-packages\\seaborn\\_oldcore.py:1498: FutureWarning: is_categorical_dtype is deprecated and will be removed in a future version. Use isinstance(dtype, CategoricalDtype) instead\n",
      "  if pd.api.types.is_categorical_dtype(vector):\n"
     ]
    },
    {
     "data": {
      "image/png": "[encoded data removed]",
      "text/plain": [
       "<Figure size 640x480 with 1 Axes>"
      ]
     },
     "metadata": {},
     "output_type": "display_data"
    }
   ],
   "source": [
    "bars(cof.price.abs().sort_values(ascending=False).head(7))"
   ]
  },
  {
   "cell_type": "code",
   "execution_count": 338,
   "metadata": {},
   "outputs": [
    {
     "data": {
      "text/plain": [
       "price                                                    1.000000\n",
       "accommodates                                             0.455022\n",
       "bedrooms                                                 0.392721\n",
       "beds                                                     0.330030\n",
       "bathrooms_text_ord                                       0.201722\n",
       "room_type_ord                                            0.200070\n",
       "neighbourhood_group_cleansed_Mitte                       0.128721\n",
       "instant_bookable                                         0.099032\n",
       "availability_60                                          0.080165\n",
       "availability_30                                          0.072755\n",
       "host_is_superhost                                        0.052717\n",
       "review_scores_rating                                     0.051774\n",
       "maximum_nights                                           0.020477\n",
       "host_total_listings_count                                0.019965\n",
       "has_availability                                         0.014880\n",
       "host_listings_count                                      0.010480\n",
       "host_identity_verified                                   0.008192\n",
       "neighbourhood_group_cleansed_Pankow                      0.008015\n",
       "calculated_host_listings_count_entire_homes             -0.000118\n",
       "neighbourhood_group_cleansed_Tempelhof - Schöneberg     -0.004710\n",
       "calculated_host_listings_count                          -0.016258\n",
       "neighbourhood_group_cleansed_Friedrichshain-Kreuzberg   -0.017900\n",
       "neighbourhood_group_cleansed_Spandau                    -0.022846\n",
       "neighbourhood_group_cleansed_Lichtenberg                -0.023641\n",
       "neighbourhood_group_cleansed_Treptow - Köpenick         -0.024496\n",
       "neighbourhood_group_cleansed_Steglitz - Zehlendorf      -0.027435\n",
       "calculated_host_listings_count_shared_rooms             -0.036739\n",
       "neighbourhood_group_cleansed_Marzahn - Hellersdorf      -0.045366\n",
       "neighbourhood_group_cleansed_Reinickendorf              -0.049608\n",
       "neighbourhood_group_cleansed_Neukölln                   -0.054009\n",
       "calculated_host_listings_count_private_rooms            -0.103329\n",
       "minimum_nights                                          -0.154962\n",
       "neighbourhood_group_cleansed_nan                              NaN\n",
       "Name: price, dtype: float64"
      ]
     },
     "execution_count": 338,
     "metadata": {},
     "output_type": "execute_result"
    }
   ],
   "source": [
    "# Now let's see what has the highest positive correlation.\n",
    "cof.price.sort_values(ascending=False)"
   ]
  },
  {
   "cell_type": "markdown",
   "metadata": {},
   "source": [
    "It looks like the highest positive correlations are also the higest absolute correlations."
   ]
  },
  {
   "cell_type": "code",
   "execution_count": 339,
   "metadata": {},
   "outputs": [
    {
     "name": "stderr",
     "output_type": "stream",
     "text": [
      "c:\\Users\\irve8\\anaconda3\\envs\\Udacity\\lib\\site-packages\\seaborn\\_oldcore.py:1498: FutureWarning: is_categorical_dtype is deprecated and will be removed in a future version. Use isinstance(dtype, CategoricalDtype) instead\n",
      "  if pd.api.types.is_categorical_dtype(vector):\n",
      "c:\\Users\\irve8\\anaconda3\\envs\\Udacity\\lib\\site-packages\\seaborn\\_oldcore.py:1498: FutureWarning: is_categorical_dtype is deprecated and will be removed in a future version. Use isinstance(dtype, CategoricalDtype) instead\n",
      "  if pd.api.types.is_categorical_dtype(vector):\n",
      "c:\\Users\\irve8\\anaconda3\\envs\\Udacity\\lib\\site-packages\\seaborn\\_oldcore.py:1498: FutureWarning: is_categorical_dtype is deprecated and will be removed in a future version. Use isinstance(dtype, CategoricalDtype) instead\n",
      "  if pd.api.types.is_categorical_dtype(vector):\n"
     ]
    },
    {
     "data": {
      "image/png": "[encoded data removed]",
      "text/plain": [
       "<Figure size 640x480 with 1 Axes>"
      ]
     },
     "metadata": {},
     "output_type": "display_data"
    }
   ],
   "source": [
    "bars(cof.price.sort_values(ascending=False).head(7))"
   ]
  },
  {
   "cell_type": "markdown",
   "metadata": {},
   "source": [
    "Do you want to see Berlin from Reichtag Dome?\n",
    "3. What to look for if you are trying to find affordable stay in Berlin."
   ]
  },
  {
   "cell_type": "code",
   "execution_count": 340,
   "metadata": {},
   "outputs": [
    {
     "data": {
      "text/plain": [
       "minimum_nights                                          -0.154962\n",
       "calculated_host_listings_count_private_rooms            -0.103329\n",
       "neighbourhood_group_cleansed_Neukölln                   -0.054009\n",
       "neighbourhood_group_cleansed_Reinickendorf              -0.049608\n",
       "neighbourhood_group_cleansed_Marzahn - Hellersdorf      -0.045366\n",
       "calculated_host_listings_count_shared_rooms             -0.036739\n",
       "neighbourhood_group_cleansed_Steglitz - Zehlendorf      -0.027435\n",
       "neighbourhood_group_cleansed_Treptow - Köpenick         -0.024496\n",
       "neighbourhood_group_cleansed_Lichtenberg                -0.023641\n",
       "neighbourhood_group_cleansed_Spandau                    -0.022846\n",
       "neighbourhood_group_cleansed_Friedrichshain-Kreuzberg   -0.017900\n",
       "calculated_host_listings_count                          -0.016258\n",
       "neighbourhood_group_cleansed_Tempelhof - Schöneberg     -0.004710\n",
       "calculated_host_listings_count_entire_homes             -0.000118\n",
       "neighbourhood_group_cleansed_Pankow                      0.008015\n",
       "host_identity_verified                                   0.008192\n",
       "host_listings_count                                      0.010480\n",
       "has_availability                                         0.014880\n",
       "host_total_listings_count                                0.019965\n",
       "maximum_nights                                           0.020477\n",
       "review_scores_rating                                     0.051774\n",
       "host_is_superhost                                        0.052717\n",
       "availability_30                                          0.072755\n",
       "availability_60                                          0.080165\n",
       "instant_bookable                                         0.099032\n",
       "neighbourhood_group_cleansed_Mitte                       0.128721\n",
       "room_type_ord                                            0.200070\n",
       "bathrooms_text_ord                                       0.201722\n",
       "beds                                                     0.330030\n",
       "bedrooms                                                 0.392721\n",
       "accommodates                                             0.455022\n",
       "price                                                    1.000000\n",
       "neighbourhood_group_cleansed_nan                              NaN\n",
       "Name: price, dtype: float64"
      ]
     },
     "execution_count": 340,
     "metadata": {},
     "output_type": "execute_result"
    }
   ],
   "source": [
    "# Now we will check the highest negative correlation.\n",
    "cof.price.sort_values(ascending=True)"
   ]
  },
  {
   "cell_type": "markdown",
   "metadata": {},
   "source": [
    "It looks like if you want spare some money on accomodation in Berlin it's good to look for listing with 'minimum nights' restriction. We can also observe that hosts who rent more properties tend to set the price lower. As we could already see before, choosing the right district also can help to get lower price."
   ]
  },
  {
   "cell_type": "code",
   "execution_count": 341,
   "metadata": {},
   "outputs": [
    {
     "name": "stderr",
     "output_type": "stream",
     "text": [
      "c:\\Users\\irve8\\anaconda3\\envs\\Udacity\\lib\\site-packages\\seaborn\\_oldcore.py:1498: FutureWarning: is_categorical_dtype is deprecated and will be removed in a future version. Use isinstance(dtype, CategoricalDtype) instead\n",
      "  if pd.api.types.is_categorical_dtype(vector):\n",
      "c:\\Users\\irve8\\anaconda3\\envs\\Udacity\\lib\\site-packages\\seaborn\\_oldcore.py:1498: FutureWarning: is_categorical_dtype is deprecated and will be removed in a future version. Use isinstance(dtype, CategoricalDtype) instead\n",
      "  if pd.api.types.is_categorical_dtype(vector):\n",
      "c:\\Users\\irve8\\anaconda3\\envs\\Udacity\\lib\\site-packages\\seaborn\\_oldcore.py:1498: FutureWarning: is_categorical_dtype is deprecated and will be removed in a future version. Use isinstance(dtype, CategoricalDtype) instead\n",
      "  if pd.api.types.is_categorical_dtype(vector):\n"
     ]
    },
    {
     "data": {
      "image/png": "[encoded data removed]",
      "text/plain": [
       "<Figure size 640x480 with 1 Axes>"
      ]
     },
     "metadata": {},
     "output_type": "display_data"
    }
   ],
   "source": [
    "bars(cof.price.sort_values(ascending=True).head(7))"
   ]
  },
  {
   "cell_type": "code",
   "execution_count": 342,
   "metadata": {},
   "outputs": [],
   "source": [
    "#cos zrobic z kolumna\n",
    "#neighbourhood_group_cleansed_nan                              NaN\n",
    "#nie moze byc wypelniona nan"
   ]
  },
  {
   "cell_type": "markdown",
   "metadata": {},
   "source": [
    "Let's answer our next question.\n",
    "4. What effect on the price has the date of listing"
   ]
  },
  {
   "cell_type": "code",
   "execution_count": 343,
   "metadata": {},
   "outputs": [
    {
     "data": {
      "text/html": [
       "<div>\n",
       "<style scoped>\n",
       "    .dataframe tbody tr th:only-of-type {\n",
       "        vertical-align: middle;\n",
       "    }\n",
       "\n",
       "    .dataframe tbody tr th {\n",
       "        vertical-align: top;\n",
       "    }\n",
       "\n",
       "    .dataframe thead th {\n",
       "        text-align: right;\n",
       "    }\n",
       "</style>\n",
       "<table border=\"1\" class=\"dataframe\">\n",
       "  <thead>\n",
       "    <tr style=\"text-align: right;\">\n",
       "      <th></th>\n",
       "      <th>listing_id</th>\n",
       "      <th>date</th>\n",
       "      <th>available</th>\n",
       "      <th>price</th>\n",
       "      <th>adjusted_price</th>\n",
       "      <th>minimum_nights</th>\n",
       "      <th>maximum_nights</th>\n",
       "    </tr>\n",
       "  </thead>\n",
       "  <tbody>\n",
       "    <tr>\n",
       "      <th>0</th>\n",
       "      <td>265408</td>\n",
       "      <td>2024-03-25</td>\n",
       "      <td>t</td>\n",
       "      <td>$20.00</td>\n",
       "      <td>NaN</td>\n",
       "      <td>1</td>\n",
       "      <td>7</td>\n",
       "    </tr>\n",
       "    <tr>\n",
       "      <th>1</th>\n",
       "      <td>265408</td>\n",
       "      <td>2024-03-26</td>\n",
       "      <td>t</td>\n",
       "      <td>$20.00</td>\n",
       "      <td>NaN</td>\n",
       "      <td>1</td>\n",
       "      <td>7</td>\n",
       "    </tr>\n",
       "    <tr>\n",
       "      <th>2</th>\n",
       "      <td>265408</td>\n",
       "      <td>2024-03-27</td>\n",
       "      <td>t</td>\n",
       "      <td>$20.00</td>\n",
       "      <td>NaN</td>\n",
       "      <td>1</td>\n",
       "      <td>7</td>\n",
       "    </tr>\n",
       "    <tr>\n",
       "      <th>3</th>\n",
       "      <td>265408</td>\n",
       "      <td>2024-03-28</td>\n",
       "      <td>t</td>\n",
       "      <td>$20.00</td>\n",
       "      <td>NaN</td>\n",
       "      <td>1</td>\n",
       "      <td>7</td>\n",
       "    </tr>\n",
       "    <tr>\n",
       "      <th>4</th>\n",
       "      <td>265408</td>\n",
       "      <td>2024-03-29</td>\n",
       "      <td>t</td>\n",
       "      <td>$20.00</td>\n",
       "      <td>NaN</td>\n",
       "      <td>1</td>\n",
       "      <td>7</td>\n",
       "    </tr>\n",
       "  </tbody>\n",
       "</table>\n",
       "</div>"
      ],
      "text/plain": [
       "   listing_id        date available   price  adjusted_price  minimum_nights  \\\n",
       "0      265408  2024-03-25         t  $20.00             NaN               1   \n",
       "1      265408  2024-03-26         t  $20.00             NaN               1   \n",
       "2      265408  2024-03-27         t  $20.00             NaN               1   \n",
       "3      265408  2024-03-28         t  $20.00             NaN               1   \n",
       "4      265408  2024-03-29         t  $20.00             NaN               1   \n",
       "\n",
       "   maximum_nights  \n",
       "0               7  \n",
       "1               7  \n",
       "2               7  \n",
       "3               7  \n",
       "4               7  "
      ]
     },
     "execution_count": 343,
     "metadata": {},
     "output_type": "execute_result"
    }
   ],
   "source": [
    "# We will load data showing prices of listings for individual days.\n",
    "dfc = pd.read_csv('calendar.csv') \n",
    "dfc.head()"
   ]
  },
  {
   "cell_type": "code",
   "execution_count": 344,
   "metadata": {},
   "outputs": [
    {
     "data": {
      "text/plain": [
       "136.65695078298035"
      ]
     },
     "execution_count": 344,
     "metadata": {},
     "output_type": "execute_result"
    }
   ],
   "source": [
    "# We will convert text to number.\n",
    "dfc['price']=dfc['price'].apply(lambda x: x.replace('$',''))\n",
    "dfc['price']=dfc['price'].apply(lambda x: float(x.replace(',','')))\n",
    "dfc['price'].mean()"
   ]
  },
  {
   "cell_type": "code",
   "execution_count": 345,
   "metadata": {},
   "outputs": [
    {
     "data": {
      "text/plain": [
       "listing_id          int64\n",
       "date               object\n",
       "available          object\n",
       "price             float64\n",
       "adjusted_price    float64\n",
       "minimum_nights      int64\n",
       "maximum_nights      int64\n",
       "dtype: object"
      ]
     },
     "execution_count": 345,
     "metadata": {},
     "output_type": "execute_result"
    }
   ],
   "source": [
    "# Let's check data types\n",
    "dfc.dtypes"
   ]
  },
  {
   "cell_type": "code",
   "execution_count": 346,
   "metadata": {},
   "outputs": [
    {
     "data": {
      "text/plain": [
       "month\n",
       "1     136.657012\n",
       "2     136.657012\n",
       "3     136.656287\n",
       "4     136.657012\n",
       "5     136.657012\n",
       "6     136.657012\n",
       "7     136.657012\n",
       "8     136.657012\n",
       "9     136.657012\n",
       "10    136.657012\n",
       "11    136.657012\n",
       "12    136.657012\n",
       "Name: price, dtype: float64"
      ]
     },
     "execution_count": 346,
     "metadata": {},
     "output_type": "execute_result"
    }
   ],
   "source": [
    "# Converts text in 'date' column to datetime and creates an additional 'month' column.\n",
    "dfc['date']=pd.to_datetime(dfc['date'])\n",
    "dfc['month'] = dfc['date'].dt.month\n",
    "# Let's see mean price per month\n",
    "dfc.groupby('month').price.mean()"
   ]
  },
  {
   "cell_type": "markdown",
   "metadata": {},
   "source": [
    "We can see that the price is not fluctuating with months."
   ]
  },
  {
   "cell_type": "code",
   "execution_count": 347,
   "metadata": {},
   "outputs": [
    {
     "name": "stderr",
     "output_type": "stream",
     "text": [
      "c:\\Users\\irve8\\anaconda3\\envs\\Udacity\\lib\\site-packages\\seaborn\\_oldcore.py:1498: FutureWarning: is_categorical_dtype is deprecated and will be removed in a future version. Use isinstance(dtype, CategoricalDtype) instead\n",
      "  if pd.api.types.is_categorical_dtype(vector):\n",
      "c:\\Users\\irve8\\anaconda3\\envs\\Udacity\\lib\\site-packages\\seaborn\\_oldcore.py:1498: FutureWarning: is_categorical_dtype is deprecated and will be removed in a future version. Use isinstance(dtype, CategoricalDtype) instead\n",
      "  if pd.api.types.is_categorical_dtype(vector):\n",
      "c:\\Users\\irve8\\anaconda3\\envs\\Udacity\\lib\\site-packages\\seaborn\\_oldcore.py:1498: FutureWarning: is_categorical_dtype is deprecated and will be removed in a future version. Use isinstance(dtype, CategoricalDtype) instead\n",
      "  if pd.api.types.is_categorical_dtype(vector):\n"
     ]
    },
    {
     "data": {
      "image/png": "[encoded data removed]",
      "text/plain": [
       "<Figure size 640x480 with 1 Axes>"
      ]
     },
     "metadata": {},
     "output_type": "display_data"
    }
   ],
   "source": [
    "bars2(dfc.groupby('month').price.mean())"
   ]
  },
  {
   "cell_type": "code",
   "execution_count": 348,
   "metadata": {},
   "outputs": [
    {
     "data": {
      "text/plain": [
       "weekday\n",
       "0    136.706734\n",
       "1    136.657012\n",
       "2    136.657012\n",
       "3    136.657012\n",
       "4    136.657012\n",
       "5    136.656895\n",
       "6    136.606153\n",
       "Name: price, dtype: float64"
      ]
     },
     "execution_count": 348,
     "metadata": {},
     "output_type": "execute_result"
    }
   ],
   "source": [
    "# Let's check if the price changes depending on the day of the week. \n",
    "dfc['weekday'] = dfc['date'].dt.weekday\n",
    "dfc.groupby('weekday').price.mean()"
   ]
  },
  {
   "cell_type": "markdown",
   "metadata": {},
   "source": [
    "It looks that the price is not calendar date dependent in analyzed data."
   ]
  },
  {
   "cell_type": "code",
   "execution_count": 349,
   "metadata": {},
   "outputs": [
    {
     "name": "stderr",
     "output_type": "stream",
     "text": [
      "c:\\Users\\irve8\\anaconda3\\envs\\Udacity\\lib\\site-packages\\seaborn\\_oldcore.py:1498: FutureWarning: is_categorical_dtype is deprecated and will be removed in a future version. Use isinstance(dtype, CategoricalDtype) instead\n",
      "  if pd.api.types.is_categorical_dtype(vector):\n",
      "c:\\Users\\irve8\\anaconda3\\envs\\Udacity\\lib\\site-packages\\seaborn\\_oldcore.py:1498: FutureWarning: is_categorical_dtype is deprecated and will be removed in a future version. Use isinstance(dtype, CategoricalDtype) instead\n",
      "  if pd.api.types.is_categorical_dtype(vector):\n",
      "c:\\Users\\irve8\\anaconda3\\envs\\Udacity\\lib\\site-packages\\seaborn\\_oldcore.py:1498: FutureWarning: is_categorical_dtype is deprecated and will be removed in a future version. Use isinstance(dtype, CategoricalDtype) instead\n",
      "  if pd.api.types.is_categorical_dtype(vector):\n"
     ]
    },
    {
     "data": {
      "image/png": "[encoded data removed]",
      "text/plain": [
       "<Figure size 640x480 with 1 Axes>"
      ]
     },
     "metadata": {},
     "output_type": "display_data"
    }
   ],
   "source": [
    "bars2(dfc.groupby('weekday').price.mean())"
   ]
  },
  {
   "cell_type": "markdown",
   "metadata": {},
   "source": [
    "As our last task...\n",
    "5. To create a model to help you to predict rent price of your real estate."
   ]
  },
  {
   "cell_type": "code",
   "execution_count": 350,
   "metadata": {},
   "outputs": [
    {
     "data": {
      "text/plain": [
       "'The r-squared score for your model was 0.3449827333702037 on 2520 values.'"
      ]
     },
     "execution_count": 350,
     "metadata": {},
     "output_type": "execute_result"
    }
   ],
   "source": [
    "# We will make train/test split, predict and score the model.\n",
    "###???from sklearn.tree import DecisionTreeRegressor\n",
    "###???from sklearn.ensemble import RandomForestRegressor\n",
    "###??? from xgboost import XGBRegressor\n",
    "#-from sklearn.metrics import r2_score\n",
    "def spl_pred (df):\n",
    "    #-from sklearn.model_selection import train_test_split\n",
    "    #-from sklearn.linear_model import LinearRegression\n",
    "    X = df.drop(['price'], axis=1)\n",
    "    y = df['price']\n",
    "    X_train, X_test, y_train, y_test = train_test_split(X, y, test_size = .30, random_state=42)\n",
    "    X_train.shape\n",
    "    X_test.shape\n",
    "    lm_model = LinearRegression() # Instantiate\n",
    "    lm_model.fit(X_train, y_train) #Fit\n",
    "    #Predict and score the model\n",
    "    y_test_preds = lm_model.predict(X_test) \n",
    "    return \"The r-squared score for your model was {} on {} values.\".format(r2_score(y_test, y_test_preds), len(y_test))\n",
    "spl_pred (df)"
   ]
  }
 ],
 "metadata": {
  "kernelspec": {
   "display_name": "Udacity",
   "language": "python",
   "name": "python3"
  },
  "language_info": {
   "codemirror_mode": {
    "name": "ipython",
    "version": 3
   },
   "file_extension": ".py",
   "mimetype": "text/x-python",
   "name": "python",
   "nbconvert_exporter": "python",
   "pygments_lexer": "ipython3",
   "version": "3.10.13"
  }
 },
 "nbformat": 4,
 "nbformat_minor": 2
}
